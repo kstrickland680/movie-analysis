{
 "cells": [
  {
   "cell_type": "markdown",
   "metadata": {},
   "source": [
    "# Movie Profits Analysis "
   ]
  },
  {
   "cell_type": "markdown",
   "metadata": {},
   "source": [
    "## Overview"
   ]
  },
  {
   "cell_type": "markdown",
   "metadata": {},
   "source": [
    "Microsoft has decided to create a movie studio and would like to do so in a profitable manner.  Descriptive analysis of boxoffice revenue, budget, ratings, and genres show differences in how different genres perform financially. Microsoft can use this information to decide what types of films to create. "
   ]
  },
  {
   "cell_type": "markdown",
   "metadata": {},
   "source": [
    "## Business Problem"
   ]
  },
  {
   "cell_type": "markdown",
   "metadata": {},
   "source": [
    "Microsoft want to create a profitable movie studio. They want to know what types of films are currently doing the best at the box office in order to decide what films they want to create. Using data from IMDB and The Numbers, I analayzed which genres perform best in the worldwide and domestic markets, which ones more people review, and which have the highest return on investmest. This will help Microsoft enter the movie sector in a profitable manner. "
   ]
  },
  {
   "cell_type": "markdown",
   "metadata": {},
   "source": [
    "## Data Understanding"
   ]
  },
  {
   "cell_type": "markdown",
   "metadata": {},
   "source": [
    "### IMDB"
   ]
  },
  {
   "cell_type": "markdown",
   "metadata": {},
   "source": [
    "IMDB tracks movie titles, release year, length, and genres. They have several databases that link movies by ID. IMDB also allows users to rate movies, and keeps track of the average rating and number of reviewers per movie. "
   ]
  },
  {
   "cell_type": "code",
   "execution_count": 121,
   "metadata": {},
   "outputs": [],
   "source": [
    "import pandas as pd\n",
    "import numpy as np\n",
    "import matplotlib.pyplot as plt\n",
    "%matplotlib inline\n",
    "import seaborn as sns\n"
   ]
  },
  {
   "cell_type": "code",
   "execution_count": 122,
   "metadata": {},
   "outputs": [
    {
     "data": {
      "text/html": [
       "<div>\n",
       "<style scoped>\n",
       "    .dataframe tbody tr th:only-of-type {\n",
       "        vertical-align: middle;\n",
       "    }\n",
       "\n",
       "    .dataframe tbody tr th {\n",
       "        vertical-align: top;\n",
       "    }\n",
       "\n",
       "    .dataframe thead th {\n",
       "        text-align: right;\n",
       "    }\n",
       "</style>\n",
       "<table border=\"1\" class=\"dataframe\">\n",
       "  <thead>\n",
       "    <tr style=\"text-align: right;\">\n",
       "      <th></th>\n",
       "      <th>tconst</th>\n",
       "      <th>primary_title</th>\n",
       "      <th>original_title</th>\n",
       "      <th>start_year</th>\n",
       "      <th>runtime_minutes</th>\n",
       "      <th>genres</th>\n",
       "    </tr>\n",
       "  </thead>\n",
       "  <tbody>\n",
       "    <tr>\n",
       "      <th>0</th>\n",
       "      <td>tt0063540</td>\n",
       "      <td>Sunghursh</td>\n",
       "      <td>Sunghursh</td>\n",
       "      <td>2013</td>\n",
       "      <td>175.0</td>\n",
       "      <td>Action,Crime,Drama</td>\n",
       "    </tr>\n",
       "    <tr>\n",
       "      <th>1</th>\n",
       "      <td>tt0066787</td>\n",
       "      <td>One Day Before the Rainy Season</td>\n",
       "      <td>Ashad Ka Ek Din</td>\n",
       "      <td>2019</td>\n",
       "      <td>114.0</td>\n",
       "      <td>Biography,Drama</td>\n",
       "    </tr>\n",
       "    <tr>\n",
       "      <th>2</th>\n",
       "      <td>tt0069049</td>\n",
       "      <td>The Other Side of the Wind</td>\n",
       "      <td>The Other Side of the Wind</td>\n",
       "      <td>2018</td>\n",
       "      <td>122.0</td>\n",
       "      <td>Drama</td>\n",
       "    </tr>\n",
       "    <tr>\n",
       "      <th>3</th>\n",
       "      <td>tt0069204</td>\n",
       "      <td>Sabse Bada Sukh</td>\n",
       "      <td>Sabse Bada Sukh</td>\n",
       "      <td>2018</td>\n",
       "      <td>NaN</td>\n",
       "      <td>Comedy,Drama</td>\n",
       "    </tr>\n",
       "    <tr>\n",
       "      <th>4</th>\n",
       "      <td>tt0100275</td>\n",
       "      <td>The Wandering Soap Opera</td>\n",
       "      <td>La Telenovela Errante</td>\n",
       "      <td>2017</td>\n",
       "      <td>80.0</td>\n",
       "      <td>Comedy,Drama,Fantasy</td>\n",
       "    </tr>\n",
       "  </tbody>\n",
       "</table>\n",
       "</div>"
      ],
      "text/plain": [
       "      tconst                    primary_title              original_title  \\\n",
       "0  tt0063540                        Sunghursh                   Sunghursh   \n",
       "1  tt0066787  One Day Before the Rainy Season             Ashad Ka Ek Din   \n",
       "2  tt0069049       The Other Side of the Wind  The Other Side of the Wind   \n",
       "3  tt0069204                  Sabse Bada Sukh             Sabse Bada Sukh   \n",
       "4  tt0100275         The Wandering Soap Opera       La Telenovela Errante   \n",
       "\n",
       "   start_year  runtime_minutes                genres  \n",
       "0        2013            175.0    Action,Crime,Drama  \n",
       "1        2019            114.0       Biography,Drama  \n",
       "2        2018            122.0                 Drama  \n",
       "3        2018              NaN          Comedy,Drama  \n",
       "4        2017             80.0  Comedy,Drama,Fantasy  "
      ]
     },
     "execution_count": 122,
     "metadata": {},
     "output_type": "execute_result"
    }
   ],
   "source": [
    "df_imdb_title = pd.read_csv('data/imdb.title.basics.csv.gz')\n",
    "df_imdb_title.head()"
   ]
  },
  {
   "cell_type": "code",
   "execution_count": 123,
   "metadata": {},
   "outputs": [
    {
     "name": "stdout",
     "output_type": "stream",
     "text": [
      "<class 'pandas.core.frame.DataFrame'>\n",
      "RangeIndex: 146144 entries, 0 to 146143\n",
      "Data columns (total 6 columns):\n",
      " #   Column           Non-Null Count   Dtype  \n",
      "---  ------           --------------   -----  \n",
      " 0   tconst           146144 non-null  object \n",
      " 1   primary_title    146144 non-null  object \n",
      " 2   original_title   146123 non-null  object \n",
      " 3   start_year       146144 non-null  int64  \n",
      " 4   runtime_minutes  114405 non-null  float64\n",
      " 5   genres           140736 non-null  object \n",
      "dtypes: float64(1), int64(1), object(4)\n",
      "memory usage: 6.7+ MB\n"
     ]
    }
   ],
   "source": [
    "df_imdb_title.info()"
   ]
  },
  {
   "cell_type": "code",
   "execution_count": 124,
   "metadata": {},
   "outputs": [],
   "source": [
    "#adds a column with a list of each genre the movie belongs to \n",
    "df_imdb_title['genres_list'] = df_imdb_title['genres'].str.split(',') #returns a list"
   ]
  },
  {
   "cell_type": "code",
   "execution_count": 125,
   "metadata": {},
   "outputs": [
    {
     "data": {
      "text/html": [
       "<div>\n",
       "<style scoped>\n",
       "    .dataframe tbody tr th:only-of-type {\n",
       "        vertical-align: middle;\n",
       "    }\n",
       "\n",
       "    .dataframe tbody tr th {\n",
       "        vertical-align: top;\n",
       "    }\n",
       "\n",
       "    .dataframe thead th {\n",
       "        text-align: right;\n",
       "    }\n",
       "</style>\n",
       "<table border=\"1\" class=\"dataframe\">\n",
       "  <thead>\n",
       "    <tr style=\"text-align: right;\">\n",
       "      <th></th>\n",
       "      <th>tconst</th>\n",
       "      <th>averagerating</th>\n",
       "      <th>numvotes</th>\n",
       "    </tr>\n",
       "  </thead>\n",
       "  <tbody>\n",
       "    <tr>\n",
       "      <th>0</th>\n",
       "      <td>tt10356526</td>\n",
       "      <td>8.3</td>\n",
       "      <td>31</td>\n",
       "    </tr>\n",
       "    <tr>\n",
       "      <th>1</th>\n",
       "      <td>tt10384606</td>\n",
       "      <td>8.9</td>\n",
       "      <td>559</td>\n",
       "    </tr>\n",
       "    <tr>\n",
       "      <th>2</th>\n",
       "      <td>tt1042974</td>\n",
       "      <td>6.4</td>\n",
       "      <td>20</td>\n",
       "    </tr>\n",
       "    <tr>\n",
       "      <th>3</th>\n",
       "      <td>tt1043726</td>\n",
       "      <td>4.2</td>\n",
       "      <td>50352</td>\n",
       "    </tr>\n",
       "    <tr>\n",
       "      <th>4</th>\n",
       "      <td>tt1060240</td>\n",
       "      <td>6.5</td>\n",
       "      <td>21</td>\n",
       "    </tr>\n",
       "  </tbody>\n",
       "</table>\n",
       "</div>"
      ],
      "text/plain": [
       "       tconst  averagerating  numvotes\n",
       "0  tt10356526            8.3        31\n",
       "1  tt10384606            8.9       559\n",
       "2   tt1042974            6.4        20\n",
       "3   tt1043726            4.2     50352\n",
       "4   tt1060240            6.5        21"
      ]
     },
     "execution_count": 125,
     "metadata": {},
     "output_type": "execute_result"
    }
   ],
   "source": [
    "df_imdb_ratings = pd.read_csv('data/imdb.title.ratings.csv.gz')\n",
    "df_imdb_ratings.head()"
   ]
  },
  {
   "cell_type": "code",
   "execution_count": 126,
   "metadata": {},
   "outputs": [
    {
     "name": "stdout",
     "output_type": "stream",
     "text": [
      "<class 'pandas.core.frame.DataFrame'>\n",
      "RangeIndex: 73856 entries, 0 to 73855\n",
      "Data columns (total 3 columns):\n",
      " #   Column         Non-Null Count  Dtype  \n",
      "---  ------         --------------  -----  \n",
      " 0   tconst         73856 non-null  object \n",
      " 1   averagerating  73856 non-null  float64\n",
      " 2   numvotes       73856 non-null  int64  \n",
      "dtypes: float64(1), int64(1), object(1)\n",
      "memory usage: 1.7+ MB\n"
     ]
    }
   ],
   "source": [
    "df_imdb_ratings.info()"
   ]
  },
  {
   "cell_type": "markdown",
   "metadata": {},
   "source": [
    "### The Numbers"
   ]
  },
  {
   "cell_type": "markdown",
   "metadata": {},
   "source": [
    "The Numbers tracks release date, production budget, domestic gross, and worldwide gross for movies. "
   ]
  },
  {
   "cell_type": "code",
   "execution_count": 127,
   "metadata": {},
   "outputs": [
    {
     "data": {
      "text/html": [
       "<div>\n",
       "<style scoped>\n",
       "    .dataframe tbody tr th:only-of-type {\n",
       "        vertical-align: middle;\n",
       "    }\n",
       "\n",
       "    .dataframe tbody tr th {\n",
       "        vertical-align: top;\n",
       "    }\n",
       "\n",
       "    .dataframe thead th {\n",
       "        text-align: right;\n",
       "    }\n",
       "</style>\n",
       "<table border=\"1\" class=\"dataframe\">\n",
       "  <thead>\n",
       "    <tr style=\"text-align: right;\">\n",
       "      <th></th>\n",
       "      <th>id</th>\n",
       "      <th>release_date</th>\n",
       "      <th>movie</th>\n",
       "      <th>production_budget</th>\n",
       "      <th>domestic_gross</th>\n",
       "      <th>worldwide_gross</th>\n",
       "    </tr>\n",
       "  </thead>\n",
       "  <tbody>\n",
       "    <tr>\n",
       "      <th>0</th>\n",
       "      <td>1</td>\n",
       "      <td>Dec 18, 2009</td>\n",
       "      <td>Avatar</td>\n",
       "      <td>$425,000,000</td>\n",
       "      <td>$760,507,625</td>\n",
       "      <td>$2,776,345,279</td>\n",
       "    </tr>\n",
       "    <tr>\n",
       "      <th>1</th>\n",
       "      <td>2</td>\n",
       "      <td>May 20, 2011</td>\n",
       "      <td>Pirates of the Caribbean: On Stranger Tides</td>\n",
       "      <td>$410,600,000</td>\n",
       "      <td>$241,063,875</td>\n",
       "      <td>$1,045,663,875</td>\n",
       "    </tr>\n",
       "    <tr>\n",
       "      <th>2</th>\n",
       "      <td>3</td>\n",
       "      <td>Jun 7, 2019</td>\n",
       "      <td>Dark Phoenix</td>\n",
       "      <td>$350,000,000</td>\n",
       "      <td>$42,762,350</td>\n",
       "      <td>$149,762,350</td>\n",
       "    </tr>\n",
       "    <tr>\n",
       "      <th>3</th>\n",
       "      <td>4</td>\n",
       "      <td>May 1, 2015</td>\n",
       "      <td>Avengers: Age of Ultron</td>\n",
       "      <td>$330,600,000</td>\n",
       "      <td>$459,005,868</td>\n",
       "      <td>$1,403,013,963</td>\n",
       "    </tr>\n",
       "    <tr>\n",
       "      <th>4</th>\n",
       "      <td>5</td>\n",
       "      <td>Dec 15, 2017</td>\n",
       "      <td>Star Wars Ep. VIII: The Last Jedi</td>\n",
       "      <td>$317,000,000</td>\n",
       "      <td>$620,181,382</td>\n",
       "      <td>$1,316,721,747</td>\n",
       "    </tr>\n",
       "  </tbody>\n",
       "</table>\n",
       "</div>"
      ],
      "text/plain": [
       "   id  release_date                                        movie  \\\n",
       "0   1  Dec 18, 2009                                       Avatar   \n",
       "1   2  May 20, 2011  Pirates of the Caribbean: On Stranger Tides   \n",
       "2   3   Jun 7, 2019                                 Dark Phoenix   \n",
       "3   4   May 1, 2015                      Avengers: Age of Ultron   \n",
       "4   5  Dec 15, 2017            Star Wars Ep. VIII: The Last Jedi   \n",
       "\n",
       "  production_budget domestic_gross worldwide_gross  \n",
       "0      $425,000,000   $760,507,625  $2,776,345,279  \n",
       "1      $410,600,000   $241,063,875  $1,045,663,875  \n",
       "2      $350,000,000    $42,762,350    $149,762,350  \n",
       "3      $330,600,000   $459,005,868  $1,403,013,963  \n",
       "4      $317,000,000   $620,181,382  $1,316,721,747  "
      ]
     },
     "execution_count": 127,
     "metadata": {},
     "output_type": "execute_result"
    }
   ],
   "source": [
    "tnmovie_budgets = pd.read_csv('data/tn.movie_budgets.csv.gz')\n",
    "tnmovie_budgets.head()"
   ]
  },
  {
   "cell_type": "code",
   "execution_count": 128,
   "metadata": {
    "scrolled": true
   },
   "outputs": [
    {
     "name": "stdout",
     "output_type": "stream",
     "text": [
      "<class 'pandas.core.frame.DataFrame'>\n",
      "RangeIndex: 5782 entries, 0 to 5781\n",
      "Data columns (total 6 columns):\n",
      " #   Column             Non-Null Count  Dtype \n",
      "---  ------             --------------  ----- \n",
      " 0   id                 5782 non-null   int64 \n",
      " 1   release_date       5782 non-null   object\n",
      " 2   movie              5782 non-null   object\n",
      " 3   production_budget  5782 non-null   object\n",
      " 4   domestic_gross     5782 non-null   object\n",
      " 5   worldwide_gross    5782 non-null   object\n",
      "dtypes: int64(1), object(5)\n",
      "memory usage: 271.2+ KB\n"
     ]
    }
   ],
   "source": [
    "tnmovie_budgets.info()"
   ]
  },
  {
   "cell_type": "markdown",
   "metadata": {},
   "source": [
    "## Data Preparation"
   ]
  },
  {
   "cell_type": "markdown",
   "metadata": {},
   "source": [
    "I make a list of each genre in the database and count how many movies each genre has. I check for missing values. I drop the column of original title as unnecessary data, and runtime minutes as it has over 31,000 data points missing. \n",
    "\n",
    "I remove the following genres as they have few data points: Game-Show, Short, Talk-Show, News, Musical, and Adult"
   ]
  },
  {
   "cell_type": "code",
   "execution_count": 129,
   "metadata": {},
   "outputs": [
    {
     "data": {
      "text/plain": [
       "Documentary                    32185\n",
       "Drama                          21486\n",
       "Comedy                          9177\n",
       "Horror                          4372\n",
       "Comedy,Drama                    3519\n",
       "                               ...  \n",
       "Musical,Romance,Western            1\n",
       "Crime,Romance,Western              1\n",
       "Crime,Family,Fantasy               1\n",
       "Documentary,Musical,Mystery        1\n",
       "Music,Musical,Romance              1\n",
       "Name: genres, Length: 1085, dtype: int64"
      ]
     },
     "execution_count": 129,
     "metadata": {},
     "output_type": "execute_result"
    }
   ],
   "source": [
    "df_imdb_title['genres'].value_counts()"
   ]
  },
  {
   "cell_type": "markdown",
   "metadata": {},
   "source": [
    "The following section makes a list of all the genres.  This starts out as a series, then turns into a flattened list.  I then make a list of each unique genre. "
   ]
  },
  {
   "cell_type": "code",
   "execution_count": 130,
   "metadata": {},
   "outputs": [
    {
     "name": "stdout",
     "output_type": "stream",
     "text": [
      "146144\n",
      "0      [Action, Crime, Drama]\n",
      "1          [Biography, Drama]\n",
      "2                     [Drama]\n",
      "3             [Comedy, Drama]\n",
      "4    [Comedy, Drama, Fantasy]\n",
      "Name: genres, dtype: object\n",
      "['Action', 'Crime', 'Drama', 'Biography', 'Drama']\n"
     ]
    }
   ],
   "source": [
    " \n",
    "\n",
    "genres_list =  df_imdb_title['genres'].str.split(',')\n",
    "print(len(genres_list))\n",
    "print(genres_list[0:5])\n",
    "\n",
    "def flattenNestedList(nestedList):\n",
    "    '''Converts a nested list to a flat list'''\n",
    "    flatListofgenres = []\n",
    "    #iterate over all the elements in given list\n",
    "    for elem in nestedList:\n",
    "        #check if type of element s list\n",
    "        if isinstance(elem, list):\n",
    "            #extend th flat list by adding contents of this list\n",
    "            flatListofgenres.extend(flattenNestedList(elem))\n",
    "        else:\n",
    "            #append the element too the list\n",
    "            flatListofgenres.append(elem)\n",
    "    return flatListofgenres\n",
    "\n",
    "flattened_genres_list = flattenNestedList(genres_list)\n",
    "print(flattened_genres_list[0:5])"
   ]
  },
  {
   "cell_type": "code",
   "execution_count": 131,
   "metadata": {},
   "outputs": [
    {
     "name": "stdout",
     "output_type": "stream",
     "text": [
      "['Action', 'Crime', 'Drama', 'Biography', 'Comedy', 'Fantasy', 'Horror', 'Thriller', 'Adventure', 'Animation', 'Documentary', 'History', 'Mystery', 'Sci-Fi', 'Romance', 'Family', 'War', 'Music', 'Sport', 'Western', 'Musical', 'Adult', 'News', 'Talk-Show', 'Reality-TV', 'Game-Show', 'Short']\n"
     ]
    }
   ],
   "source": [
    "unique_genres = []\n",
    "for x in flattened_genres_list:\n",
    "    if pd.isnull(x):\n",
    "        pass\n",
    "    elif x not in unique_genres:\n",
    "        unique_genres.append(x)\n",
    "print(unique_genres)\n",
    "    "
   ]
  },
  {
   "cell_type": "markdown",
   "metadata": {},
   "source": [
    "I count how many movies each genre has listed, and then delete the genres that do not have many data points. "
   ]
  },
  {
   "cell_type": "code",
   "execution_count": 132,
   "metadata": {},
   "outputs": [
    {
     "name": "stdout",
     "output_type": "stream",
     "text": [
      "Action10335\n",
      "Crime6753\n",
      "Drama49883\n",
      "Biography8722\n",
      "Comedy25312\n",
      "Fantasy3516\n",
      "Horror10805\n",
      "Thriller11883\n",
      "Adventure6465\n",
      "Animation2799\n",
      "Documentary51640\n",
      "History6225\n",
      "Mystery4659\n",
      "Sci-Fi3365\n",
      "Romance9372\n",
      "Family6227\n",
      "War1405\n",
      "Music4314\n",
      "Sport2234\n",
      "Western467\n",
      "Musical1430\n",
      "Adult25\n",
      "News1551\n",
      "Talk-Show50\n",
      "Reality-TV98\n",
      "Game-Show4\n",
      "Short11\n"
     ]
    }
   ],
   "source": [
    "def countX(lst, x):\n",
    "    count = 0\n",
    "    for ele in lst:\n",
    "        if (ele == x):\n",
    "            count = count + 1\n",
    "    return count\n",
    "\n",
    "for genre in unique_genres:\n",
    "    if type(genre) == str:\n",
    "        count = countX(flattened_genres_list, genre)\n",
    "        print(genre + str(count))\n",
    "\n",
    "\n"
   ]
  },
  {
   "cell_type": "markdown",
   "metadata": {},
   "source": [
    "This section focuses on finding missing values.  I delete runtime minutes as it has too many missing vales, and delete entries without genres. "
   ]
  },
  {
   "cell_type": "code",
   "execution_count": 133,
   "metadata": {},
   "outputs": [
    {
     "data": {
      "text/plain": [
       "tconst                 0\n",
       "primary_title          0\n",
       "original_title        21\n",
       "start_year             0\n",
       "runtime_minutes    31739\n",
       "genres              5408\n",
       "genres_list         5408\n",
       "dtype: int64"
      ]
     },
     "execution_count": 133,
     "metadata": {},
     "output_type": "execute_result"
    }
   ],
   "source": [
    "df_imdb_title.isna().sum()"
   ]
  },
  {
   "cell_type": "code",
   "execution_count": 134,
   "metadata": {},
   "outputs": [],
   "source": [
    "df_imdb_title = df_imdb_title.drop('runtime_minutes', axis=1)"
   ]
  },
  {
   "cell_type": "code",
   "execution_count": 135,
   "metadata": {},
   "outputs": [
    {
     "data": {
      "text/plain": [
       "tconst            0\n",
       "primary_title     0\n",
       "original_title    0\n",
       "start_year        0\n",
       "genres            0\n",
       "genres_list       0\n",
       "dtype: int64"
      ]
     },
     "execution_count": 135,
     "metadata": {},
     "output_type": "execute_result"
    }
   ],
   "source": [
    "df_imdb_title = df_imdb_title.dropna()\n",
    "df_imdb_title.isna().sum()"
   ]
  },
  {
   "cell_type": "code",
   "execution_count": 136,
   "metadata": {},
   "outputs": [],
   "source": [
    "df_imdb_title = df_imdb_title.drop('original_title', axis=1)"
   ]
  },
  {
   "cell_type": "code",
   "execution_count": 137,
   "metadata": {},
   "outputs": [
    {
     "name": "stdout",
     "output_type": "stream",
     "text": [
      "<class 'pandas.core.frame.DataFrame'>\n",
      "RangeIndex: 73856 entries, 0 to 73855\n",
      "Data columns (total 3 columns):\n",
      " #   Column         Non-Null Count  Dtype  \n",
      "---  ------         --------------  -----  \n",
      " 0   tconst         73856 non-null  object \n",
      " 1   averagerating  73856 non-null  float64\n",
      " 2   numvotes       73856 non-null  int64  \n",
      "dtypes: float64(1), int64(1), object(1)\n",
      "memory usage: 1.7+ MB\n"
     ]
    }
   ],
   "source": [
    "df_imdb_ratings.info()"
   ]
  },
  {
   "cell_type": "code",
   "execution_count": 138,
   "metadata": {},
   "outputs": [
    {
     "data": {
      "text/plain": [
       "tconst           0\n",
       "averagerating    0\n",
       "numvotes         0\n",
       "dtype: int64"
      ]
     },
     "execution_count": 138,
     "metadata": {},
     "output_type": "execute_result"
    }
   ],
   "source": [
    "df_imdb_ratings.isna().sum()"
   ]
  },
  {
   "cell_type": "code",
   "execution_count": 139,
   "metadata": {},
   "outputs": [
    {
     "name": "stdout",
     "output_type": "stream",
     "text": [
      "Values for tconst: \n",
      "<bound method Series.unique of 0        tt10356526\n",
      "1        tt10384606\n",
      "2         tt1042974\n",
      "3         tt1043726\n",
      "4         tt1060240\n",
      "            ...    \n",
      "73851     tt9805820\n",
      "73852     tt9844256\n",
      "73853     tt9851050\n",
      "73854     tt9886934\n",
      "73855     tt9894098\n",
      "Name: tconst, Length: 73856, dtype: object>\n",
      "\n",
      "\n",
      "Values for averagerating: \n",
      "<bound method Series.unique of 0        8.3\n",
      "1        8.9\n",
      "2        6.4\n",
      "3        4.2\n",
      "4        6.5\n",
      "        ... \n",
      "73851    8.1\n",
      "73852    7.5\n",
      "73853    4.7\n",
      "73854    7.0\n",
      "73855    6.3\n",
      "Name: averagerating, Length: 73856, dtype: float64>\n",
      "\n",
      "\n",
      "Values for numvotes: \n",
      "<bound method Series.unique of 0           31\n",
      "1          559\n",
      "2           20\n",
      "3        50352\n",
      "4           21\n",
      "         ...  \n",
      "73851       25\n",
      "73852       24\n",
      "73853       14\n",
      "73854        5\n",
      "73855      128\n",
      "Name: numvotes, Length: 73856, dtype: int64>\n",
      "\n",
      "\n"
     ]
    }
   ],
   "source": [
    "#checking for placeholders\n",
    "for col in df_imdb_ratings:\n",
    "    print('Values for {}: \\n{}\\n\\n'.format(col, df_imdb_ratings[col].unique))"
   ]
  },
  {
   "cell_type": "code",
   "execution_count": 140,
   "metadata": {},
   "outputs": [],
   "source": [
    "df_imdb_ratings = df_imdb_ratings.drop_duplicates('tconst')"
   ]
  },
  {
   "cell_type": "markdown",
   "metadata": {},
   "source": [
    "There's a very large difference between median and mean for number of votes (3523 and 49).  I filter out all entries that have less than 100 votes. "
   ]
  },
  {
   "cell_type": "code",
   "execution_count": 141,
   "metadata": {},
   "outputs": [
    {
     "name": "stdout",
     "output_type": "stream",
     "text": [
      "104      128\n",
      "109      119\n",
      "102      118\n",
      "107      109\n",
      "105      106\n",
      "        ... \n",
      "13487      1\n",
      "19632      1\n",
      "17585      1\n",
      "5307       1\n",
      "4098       1\n",
      "Name: numvotes, Length: 7254, dtype: int64\n"
     ]
    }
   ],
   "source": [
    "numvotes_mean = df_imdb_ratings['numvotes'].mean() #3523\n",
    "numvotes_median = df_imdb_ratings['numvotes'].median() #49\n",
    "\n",
    "df_imdb_ratings_filtered = df_imdb_ratings[df_imdb_ratings['numvotes'] >= 100]\n",
    "print(df_imdb_ratings_filtered['numvotes'].value_counts())\n",
    "numvotesfil_mean = df_imdb_ratings_filtered['numvotes'].mean() \n",
    "numvotesfil_median = df_imdb_ratings_filtered['numvotes'].median() \n"
   ]
  },
  {
   "cell_type": "code",
   "execution_count": 142,
   "metadata": {},
   "outputs": [
    {
     "data": {
      "text/html": [
       "<div>\n",
       "<style scoped>\n",
       "    .dataframe tbody tr th:only-of-type {\n",
       "        vertical-align: middle;\n",
       "    }\n",
       "\n",
       "    .dataframe tbody tr th {\n",
       "        vertical-align: top;\n",
       "    }\n",
       "\n",
       "    .dataframe thead th {\n",
       "        text-align: right;\n",
       "    }\n",
       "</style>\n",
       "<table border=\"1\" class=\"dataframe\">\n",
       "  <thead>\n",
       "    <tr style=\"text-align: right;\">\n",
       "      <th></th>\n",
       "      <th>averagerating</th>\n",
       "      <th>numvotes</th>\n",
       "    </tr>\n",
       "  </thead>\n",
       "  <tbody>\n",
       "    <tr>\n",
       "      <th>count</th>\n",
       "      <td>28753.000000</td>\n",
       "      <td>2.875300e+04</td>\n",
       "    </tr>\n",
       "    <tr>\n",
       "      <th>mean</th>\n",
       "      <td>5.907015</td>\n",
       "      <td>9.008150e+03</td>\n",
       "    </tr>\n",
       "    <tr>\n",
       "      <th>std</th>\n",
       "      <td>1.356642</td>\n",
       "      <td>4.804270e+04</td>\n",
       "    </tr>\n",
       "    <tr>\n",
       "      <th>min</th>\n",
       "      <td>1.000000</td>\n",
       "      <td>1.000000e+02</td>\n",
       "    </tr>\n",
       "    <tr>\n",
       "      <th>25%</th>\n",
       "      <td>5.100000</td>\n",
       "      <td>2.020000e+02</td>\n",
       "    </tr>\n",
       "    <tr>\n",
       "      <th>50%</th>\n",
       "      <td>6.100000</td>\n",
       "      <td>4.650000e+02</td>\n",
       "    </tr>\n",
       "    <tr>\n",
       "      <th>75%</th>\n",
       "      <td>6.900000</td>\n",
       "      <td>1.663000e+03</td>\n",
       "    </tr>\n",
       "    <tr>\n",
       "      <th>max</th>\n",
       "      <td>9.900000</td>\n",
       "      <td>1.841066e+06</td>\n",
       "    </tr>\n",
       "  </tbody>\n",
       "</table>\n",
       "</div>"
      ],
      "text/plain": [
       "       averagerating      numvotes\n",
       "count   28753.000000  2.875300e+04\n",
       "mean        5.907015  9.008150e+03\n",
       "std         1.356642  4.804270e+04\n",
       "min         1.000000  1.000000e+02\n",
       "25%         5.100000  2.020000e+02\n",
       "50%         6.100000  4.650000e+02\n",
       "75%         6.900000  1.663000e+03\n",
       "max         9.900000  1.841066e+06"
      ]
     },
     "execution_count": 142,
     "metadata": {},
     "output_type": "execute_result"
    }
   ],
   "source": [
    "df_imdb_ratings_filtered.describe()"
   ]
  },
  {
   "cell_type": "markdown",
   "metadata": {},
   "source": [
    "### Genre"
   ]
  },
  {
   "cell_type": "markdown",
   "metadata": {},
   "source": [
    "I create a column for each genre and drop the genres that have few entries (game-show, short, talk-show, news, musical, and adult)"
   ]
  },
  {
   "cell_type": "code",
   "execution_count": 143,
   "metadata": {},
   "outputs": [
    {
     "data": {
      "text/html": [
       "<div>\n",
       "<style scoped>\n",
       "    .dataframe tbody tr th:only-of-type {\n",
       "        vertical-align: middle;\n",
       "    }\n",
       "\n",
       "    .dataframe tbody tr th {\n",
       "        vertical-align: top;\n",
       "    }\n",
       "\n",
       "    .dataframe thead th {\n",
       "        text-align: right;\n",
       "    }\n",
       "</style>\n",
       "<table border=\"1\" class=\"dataframe\">\n",
       "  <thead>\n",
       "    <tr style=\"text-align: right;\">\n",
       "      <th></th>\n",
       "      <th>tconst</th>\n",
       "      <th>primary_title</th>\n",
       "      <th>start_year</th>\n",
       "      <th>genres</th>\n",
       "      <th>genres_list</th>\n",
       "      <th>Action</th>\n",
       "      <th>Crime</th>\n",
       "      <th>Drama</th>\n",
       "      <th>Biography</th>\n",
       "      <th>Comedy</th>\n",
       "      <th>...</th>\n",
       "      <th>Music</th>\n",
       "      <th>Sport</th>\n",
       "      <th>Western</th>\n",
       "      <th>Musical</th>\n",
       "      <th>Adult</th>\n",
       "      <th>News</th>\n",
       "      <th>Talk-Show</th>\n",
       "      <th>Reality-TV</th>\n",
       "      <th>Game-Show</th>\n",
       "      <th>Short</th>\n",
       "    </tr>\n",
       "  </thead>\n",
       "  <tbody>\n",
       "    <tr>\n",
       "      <th>0</th>\n",
       "      <td>tt0063540</td>\n",
       "      <td>Sunghursh</td>\n",
       "      <td>2013</td>\n",
       "      <td>Action,Crime,Drama</td>\n",
       "      <td>[Action, Crime, Drama]</td>\n",
       "      <td>True</td>\n",
       "      <td>True</td>\n",
       "      <td>True</td>\n",
       "      <td>False</td>\n",
       "      <td>False</td>\n",
       "      <td>...</td>\n",
       "      <td>False</td>\n",
       "      <td>False</td>\n",
       "      <td>False</td>\n",
       "      <td>False</td>\n",
       "      <td>False</td>\n",
       "      <td>False</td>\n",
       "      <td>False</td>\n",
       "      <td>False</td>\n",
       "      <td>False</td>\n",
       "      <td>False</td>\n",
       "    </tr>\n",
       "    <tr>\n",
       "      <th>1</th>\n",
       "      <td>tt0066787</td>\n",
       "      <td>One Day Before the Rainy Season</td>\n",
       "      <td>2019</td>\n",
       "      <td>Biography,Drama</td>\n",
       "      <td>[Biography, Drama]</td>\n",
       "      <td>False</td>\n",
       "      <td>False</td>\n",
       "      <td>True</td>\n",
       "      <td>True</td>\n",
       "      <td>False</td>\n",
       "      <td>...</td>\n",
       "      <td>False</td>\n",
       "      <td>False</td>\n",
       "      <td>False</td>\n",
       "      <td>False</td>\n",
       "      <td>False</td>\n",
       "      <td>False</td>\n",
       "      <td>False</td>\n",
       "      <td>False</td>\n",
       "      <td>False</td>\n",
       "      <td>False</td>\n",
       "    </tr>\n",
       "    <tr>\n",
       "      <th>2</th>\n",
       "      <td>tt0069049</td>\n",
       "      <td>The Other Side of the Wind</td>\n",
       "      <td>2018</td>\n",
       "      <td>Drama</td>\n",
       "      <td>[Drama]</td>\n",
       "      <td>False</td>\n",
       "      <td>False</td>\n",
       "      <td>True</td>\n",
       "      <td>False</td>\n",
       "      <td>False</td>\n",
       "      <td>...</td>\n",
       "      <td>False</td>\n",
       "      <td>False</td>\n",
       "      <td>False</td>\n",
       "      <td>False</td>\n",
       "      <td>False</td>\n",
       "      <td>False</td>\n",
       "      <td>False</td>\n",
       "      <td>False</td>\n",
       "      <td>False</td>\n",
       "      <td>False</td>\n",
       "    </tr>\n",
       "    <tr>\n",
       "      <th>3</th>\n",
       "      <td>tt0069204</td>\n",
       "      <td>Sabse Bada Sukh</td>\n",
       "      <td>2018</td>\n",
       "      <td>Comedy,Drama</td>\n",
       "      <td>[Comedy, Drama]</td>\n",
       "      <td>False</td>\n",
       "      <td>False</td>\n",
       "      <td>True</td>\n",
       "      <td>False</td>\n",
       "      <td>True</td>\n",
       "      <td>...</td>\n",
       "      <td>False</td>\n",
       "      <td>False</td>\n",
       "      <td>False</td>\n",
       "      <td>False</td>\n",
       "      <td>False</td>\n",
       "      <td>False</td>\n",
       "      <td>False</td>\n",
       "      <td>False</td>\n",
       "      <td>False</td>\n",
       "      <td>False</td>\n",
       "    </tr>\n",
       "    <tr>\n",
       "      <th>4</th>\n",
       "      <td>tt0100275</td>\n",
       "      <td>The Wandering Soap Opera</td>\n",
       "      <td>2017</td>\n",
       "      <td>Comedy,Drama,Fantasy</td>\n",
       "      <td>[Comedy, Drama, Fantasy]</td>\n",
       "      <td>False</td>\n",
       "      <td>False</td>\n",
       "      <td>True</td>\n",
       "      <td>False</td>\n",
       "      <td>True</td>\n",
       "      <td>...</td>\n",
       "      <td>False</td>\n",
       "      <td>False</td>\n",
       "      <td>False</td>\n",
       "      <td>False</td>\n",
       "      <td>False</td>\n",
       "      <td>False</td>\n",
       "      <td>False</td>\n",
       "      <td>False</td>\n",
       "      <td>False</td>\n",
       "      <td>False</td>\n",
       "    </tr>\n",
       "  </tbody>\n",
       "</table>\n",
       "<p>5 rows × 32 columns</p>\n",
       "</div>"
      ],
      "text/plain": [
       "      tconst                    primary_title  start_year  \\\n",
       "0  tt0063540                        Sunghursh        2013   \n",
       "1  tt0066787  One Day Before the Rainy Season        2019   \n",
       "2  tt0069049       The Other Side of the Wind        2018   \n",
       "3  tt0069204                  Sabse Bada Sukh        2018   \n",
       "4  tt0100275         The Wandering Soap Opera        2017   \n",
       "\n",
       "                 genres               genres_list  Action  Crime  Drama  \\\n",
       "0    Action,Crime,Drama    [Action, Crime, Drama]    True   True   True   \n",
       "1       Biography,Drama        [Biography, Drama]   False  False   True   \n",
       "2                 Drama                   [Drama]   False  False   True   \n",
       "3          Comedy,Drama           [Comedy, Drama]   False  False   True   \n",
       "4  Comedy,Drama,Fantasy  [Comedy, Drama, Fantasy]   False  False   True   \n",
       "\n",
       "   Biography  Comedy  ...  Music  Sport  Western  Musical  Adult   News  \\\n",
       "0      False   False  ...  False  False    False    False  False  False   \n",
       "1       True   False  ...  False  False    False    False  False  False   \n",
       "2      False   False  ...  False  False    False    False  False  False   \n",
       "3      False    True  ...  False  False    False    False  False  False   \n",
       "4      False    True  ...  False  False    False    False  False  False   \n",
       "\n",
       "   Talk-Show  Reality-TV  Game-Show  Short  \n",
       "0      False       False      False  False  \n",
       "1      False       False      False  False  \n",
       "2      False       False      False  False  \n",
       "3      False       False      False  False  \n",
       "4      False       False      False  False  \n",
       "\n",
       "[5 rows x 32 columns]"
      ]
     },
     "execution_count": 143,
     "metadata": {},
     "output_type": "execute_result"
    }
   ],
   "source": [
    "#add column for genre and default to false\n",
    "for genre in unique_genres: \n",
    "    df_imdb_title[genre] = False\n",
    "    \n",
    "for index_label, row_series in df_imdb_title.iterrows():\n",
    "    for genre in df_imdb_title.at[index_label, 'genres_list']:\n",
    "        df_imdb_title.at[index_label, genre] = True\n",
    "df_imdb_title.head()\n",
    "    \n",
    "     "
   ]
  },
  {
   "cell_type": "code",
   "execution_count": 144,
   "metadata": {},
   "outputs": [],
   "source": [
    "df_imdb_title = df_imdb_title.drop('Game-Show', axis = 1)\n",
    "df_imdb_title = df_imdb_title.drop('Short', axis = 1)\n",
    "df_imdb_title = df_imdb_title.drop('Talk-Show', axis = 1)\n",
    "df_imdb_title = df_imdb_title.drop('News', axis = 1)\n",
    "df_imdb_title = df_imdb_title.drop('Musical', axis = 1)\n",
    "df_imdb_title = df_imdb_title.drop('Adult', axis = 1)\n",
    "df_imdb_title = df_imdb_title.drop('Reality-TV', axis=1)\n"
   ]
  },
  {
   "cell_type": "code",
   "execution_count": 145,
   "metadata": {},
   "outputs": [],
   "source": [
    "unique_genres.remove('Game-Show')\n",
    "unique_genres.remove('Short')\n",
    "unique_genres.remove('Talk-Show')\n",
    "unique_genres.remove('News')\n",
    "unique_genres.remove('Musical')\n",
    "unique_genres.remove('Adult')\n",
    "unique_genres.remove('Reality-TV')"
   ]
  },
  {
   "cell_type": "markdown",
   "metadata": {},
   "source": [
    "### The Numbers"
   ]
  },
  {
   "cell_type": "markdown",
   "metadata": {},
   "source": [
    "I check for missing data and placeholders in The Numbers data. They use 0 as a placeholder. I remove those entries. "
   ]
  },
  {
   "cell_type": "code",
   "execution_count": 146,
   "metadata": {},
   "outputs": [
    {
     "name": "stdout",
     "output_type": "stream",
     "text": [
      "<class 'pandas.core.frame.DataFrame'>\n",
      "RangeIndex: 5782 entries, 0 to 5781\n",
      "Data columns (total 6 columns):\n",
      " #   Column             Non-Null Count  Dtype \n",
      "---  ------             --------------  ----- \n",
      " 0   id                 5782 non-null   int64 \n",
      " 1   release_date       5782 non-null   object\n",
      " 2   movie              5782 non-null   object\n",
      " 3   production_budget  5782 non-null   object\n",
      " 4   domestic_gross     5782 non-null   object\n",
      " 5   worldwide_gross    5782 non-null   object\n",
      "dtypes: int64(1), object(5)\n",
      "memory usage: 271.2+ KB\n"
     ]
    }
   ],
   "source": [
    "tnmovie_budgets.info()"
   ]
  },
  {
   "cell_type": "code",
   "execution_count": 147,
   "metadata": {},
   "outputs": [
    {
     "data": {
      "text/plain": [
       "id                   0\n",
       "release_date         0\n",
       "movie                0\n",
       "production_budget    0\n",
       "domestic_gross       0\n",
       "worldwide_gross      0\n",
       "dtype: int64"
      ]
     },
     "execution_count": 147,
     "metadata": {},
     "output_type": "execute_result"
    }
   ],
   "source": [
    "tnmovie_budgets.isna().sum()"
   ]
  },
  {
   "cell_type": "code",
   "execution_count": 148,
   "metadata": {},
   "outputs": [
    {
     "name": "stdout",
     "output_type": "stream",
     "text": [
      "Values for id: \n",
      "<bound method Series.unique of 0        1\n",
      "1        2\n",
      "2        3\n",
      "3        4\n",
      "4        5\n",
      "        ..\n",
      "5777    78\n",
      "5778    79\n",
      "5779    80\n",
      "5780    81\n",
      "5781    82\n",
      "Name: id, Length: 5782, dtype: int64>\n",
      "\n",
      "\n",
      "Values for release_date: \n",
      "<bound method Series.unique of 0       Dec 18, 2009\n",
      "1       May 20, 2011\n",
      "2        Jun 7, 2019\n",
      "3        May 1, 2015\n",
      "4       Dec 15, 2017\n",
      "            ...     \n",
      "5777    Dec 31, 2018\n",
      "5778     Apr 2, 1999\n",
      "5779    Jul 13, 2005\n",
      "5780    Sep 29, 2015\n",
      "5781     Aug 5, 2005\n",
      "Name: release_date, Length: 5782, dtype: object>\n",
      "\n",
      "\n",
      "Values for movie: \n",
      "<bound method Series.unique of 0                                            Avatar\n",
      "1       Pirates of the Caribbean: On Stranger Tides\n",
      "2                                      Dark Phoenix\n",
      "3                           Avengers: Age of Ultron\n",
      "4                 Star Wars Ep. VIII: The Last Jedi\n",
      "                           ...                     \n",
      "5777                                         Red 11\n",
      "5778                                      Following\n",
      "5779                  Return to the Land of Wonders\n",
      "5780                           A Plague So Pleasant\n",
      "5781                              My Date With Drew\n",
      "Name: movie, Length: 5782, dtype: object>\n",
      "\n",
      "\n",
      "Values for production_budget: \n",
      "<bound method Series.unique of 0       $425,000,000\n",
      "1       $410,600,000\n",
      "2       $350,000,000\n",
      "3       $330,600,000\n",
      "4       $317,000,000\n",
      "            ...     \n",
      "5777          $7,000\n",
      "5778          $6,000\n",
      "5779          $5,000\n",
      "5780          $1,400\n",
      "5781          $1,100\n",
      "Name: production_budget, Length: 5782, dtype: object>\n",
      "\n",
      "\n",
      "Values for domestic_gross: \n",
      "<bound method Series.unique of 0       $760,507,625\n",
      "1       $241,063,875\n",
      "2        $42,762,350\n",
      "3       $459,005,868\n",
      "4       $620,181,382\n",
      "            ...     \n",
      "5777              $0\n",
      "5778         $48,482\n",
      "5779          $1,338\n",
      "5780              $0\n",
      "5781        $181,041\n",
      "Name: domestic_gross, Length: 5782, dtype: object>\n",
      "\n",
      "\n",
      "Values for worldwide_gross: \n",
      "<bound method Series.unique of 0       $2,776,345,279\n",
      "1       $1,045,663,875\n",
      "2         $149,762,350\n",
      "3       $1,403,013,963\n",
      "4       $1,316,721,747\n",
      "             ...      \n",
      "5777                $0\n",
      "5778          $240,495\n",
      "5779            $1,338\n",
      "5780                $0\n",
      "5781          $181,041\n",
      "Name: worldwide_gross, Length: 5782, dtype: object>\n",
      "\n",
      "\n"
     ]
    }
   ],
   "source": [
    "#checking for placeholders\n",
    "for col in tnmovie_budgets:\n",
    "    print('Values for {}: \\n{}\\n\\n'.format(col, tnmovie_budgets[col].unique))\n"
   ]
  },
  {
   "cell_type": "markdown",
   "metadata": {},
   "source": [
    "I turn the production budget, domestic gross, and worldwide gross entries into strings in order to remove the $, and then turn them back into integers or floats. "
   ]
  },
  {
   "cell_type": "code",
   "execution_count": 149,
   "metadata": {},
   "outputs": [
    {
     "data": {
      "text/html": [
       "<div>\n",
       "<style scoped>\n",
       "    .dataframe tbody tr th:only-of-type {\n",
       "        vertical-align: middle;\n",
       "    }\n",
       "\n",
       "    .dataframe tbody tr th {\n",
       "        vertical-align: top;\n",
       "    }\n",
       "\n",
       "    .dataframe thead th {\n",
       "        text-align: right;\n",
       "    }\n",
       "</style>\n",
       "<table border=\"1\" class=\"dataframe\">\n",
       "  <thead>\n",
       "    <tr style=\"text-align: right;\">\n",
       "      <th></th>\n",
       "      <th>id</th>\n",
       "      <th>release_date</th>\n",
       "      <th>movie</th>\n",
       "      <th>production_budget</th>\n",
       "      <th>domestic_gross</th>\n",
       "      <th>worldwide_gross</th>\n",
       "    </tr>\n",
       "  </thead>\n",
       "  <tbody>\n",
       "    <tr>\n",
       "      <th>0</th>\n",
       "      <td>1</td>\n",
       "      <td>Dec 18, 2009</td>\n",
       "      <td>Avatar</td>\n",
       "      <td>$425,000,000</td>\n",
       "      <td>$760,507,625</td>\n",
       "      <td>$2,776,345,279</td>\n",
       "    </tr>\n",
       "    <tr>\n",
       "      <th>1</th>\n",
       "      <td>2</td>\n",
       "      <td>May 20, 2011</td>\n",
       "      <td>Pirates of the Caribbean: On Stranger Tides</td>\n",
       "      <td>$410,600,000</td>\n",
       "      <td>$241,063,875</td>\n",
       "      <td>$1,045,663,875</td>\n",
       "    </tr>\n",
       "    <tr>\n",
       "      <th>2</th>\n",
       "      <td>3</td>\n",
       "      <td>Jun 7, 2019</td>\n",
       "      <td>Dark Phoenix</td>\n",
       "      <td>$350,000,000</td>\n",
       "      <td>$42,762,350</td>\n",
       "      <td>$149,762,350</td>\n",
       "    </tr>\n",
       "    <tr>\n",
       "      <th>3</th>\n",
       "      <td>4</td>\n",
       "      <td>May 1, 2015</td>\n",
       "      <td>Avengers: Age of Ultron</td>\n",
       "      <td>$330,600,000</td>\n",
       "      <td>$459,005,868</td>\n",
       "      <td>$1,403,013,963</td>\n",
       "    </tr>\n",
       "    <tr>\n",
       "      <th>4</th>\n",
       "      <td>5</td>\n",
       "      <td>Dec 15, 2017</td>\n",
       "      <td>Star Wars Ep. VIII: The Last Jedi</td>\n",
       "      <td>$317,000,000</td>\n",
       "      <td>$620,181,382</td>\n",
       "      <td>$1,316,721,747</td>\n",
       "    </tr>\n",
       "    <tr>\n",
       "      <th>...</th>\n",
       "      <td>...</td>\n",
       "      <td>...</td>\n",
       "      <td>...</td>\n",
       "      <td>...</td>\n",
       "      <td>...</td>\n",
       "      <td>...</td>\n",
       "    </tr>\n",
       "    <tr>\n",
       "      <th>5777</th>\n",
       "      <td>78</td>\n",
       "      <td>Dec 31, 2018</td>\n",
       "      <td>Red 11</td>\n",
       "      <td>$7,000</td>\n",
       "      <td>$0</td>\n",
       "      <td>$0</td>\n",
       "    </tr>\n",
       "    <tr>\n",
       "      <th>5778</th>\n",
       "      <td>79</td>\n",
       "      <td>Apr 2, 1999</td>\n",
       "      <td>Following</td>\n",
       "      <td>$6,000</td>\n",
       "      <td>$48,482</td>\n",
       "      <td>$240,495</td>\n",
       "    </tr>\n",
       "    <tr>\n",
       "      <th>5779</th>\n",
       "      <td>80</td>\n",
       "      <td>Jul 13, 2005</td>\n",
       "      <td>Return to the Land of Wonders</td>\n",
       "      <td>$5,000</td>\n",
       "      <td>$1,338</td>\n",
       "      <td>$1,338</td>\n",
       "    </tr>\n",
       "    <tr>\n",
       "      <th>5780</th>\n",
       "      <td>81</td>\n",
       "      <td>Sep 29, 2015</td>\n",
       "      <td>A Plague So Pleasant</td>\n",
       "      <td>$1,400</td>\n",
       "      <td>$0</td>\n",
       "      <td>$0</td>\n",
       "    </tr>\n",
       "    <tr>\n",
       "      <th>5781</th>\n",
       "      <td>82</td>\n",
       "      <td>Aug 5, 2005</td>\n",
       "      <td>My Date With Drew</td>\n",
       "      <td>$1,100</td>\n",
       "      <td>$181,041</td>\n",
       "      <td>$181,041</td>\n",
       "    </tr>\n",
       "  </tbody>\n",
       "</table>\n",
       "<p>5782 rows × 6 columns</p>\n",
       "</div>"
      ],
      "text/plain": [
       "      id  release_date                                        movie  \\\n",
       "0      1  Dec 18, 2009                                       Avatar   \n",
       "1      2  May 20, 2011  Pirates of the Caribbean: On Stranger Tides   \n",
       "2      3   Jun 7, 2019                                 Dark Phoenix   \n",
       "3      4   May 1, 2015                      Avengers: Age of Ultron   \n",
       "4      5  Dec 15, 2017            Star Wars Ep. VIII: The Last Jedi   \n",
       "...   ..           ...                                          ...   \n",
       "5777  78  Dec 31, 2018                                       Red 11   \n",
       "5778  79   Apr 2, 1999                                    Following   \n",
       "5779  80  Jul 13, 2005                Return to the Land of Wonders   \n",
       "5780  81  Sep 29, 2015                         A Plague So Pleasant   \n",
       "5781  82   Aug 5, 2005                            My Date With Drew   \n",
       "\n",
       "     production_budget domestic_gross worldwide_gross  \n",
       "0         $425,000,000   $760,507,625  $2,776,345,279  \n",
       "1         $410,600,000   $241,063,875  $1,045,663,875  \n",
       "2         $350,000,000    $42,762,350    $149,762,350  \n",
       "3         $330,600,000   $459,005,868  $1,403,013,963  \n",
       "4         $317,000,000   $620,181,382  $1,316,721,747  \n",
       "...                ...            ...             ...  \n",
       "5777            $7,000             $0              $0  \n",
       "5778            $6,000        $48,482        $240,495  \n",
       "5779            $5,000         $1,338          $1,338  \n",
       "5780            $1,400             $0              $0  \n",
       "5781            $1,100       $181,041        $181,041  \n",
       "\n",
       "[5782 rows x 6 columns]"
      ]
     },
     "execution_count": 149,
     "metadata": {},
     "output_type": "execute_result"
    }
   ],
   "source": [
    "tnmovie_budgets.astype({'production_budget': 'string'})\n",
    "tnmovie_budgets.astype({'domestic_gross': 'string'})\n",
    "tnmovie_budgets.astype({'worldwide_gross': 'string'})"
   ]
  },
  {
   "cell_type": "code",
   "execution_count": 150,
   "metadata": {},
   "outputs": [
    {
     "data": {
      "text/html": [
       "<div>\n",
       "<style scoped>\n",
       "    .dataframe tbody tr th:only-of-type {\n",
       "        vertical-align: middle;\n",
       "    }\n",
       "\n",
       "    .dataframe tbody tr th {\n",
       "        vertical-align: top;\n",
       "    }\n",
       "\n",
       "    .dataframe thead th {\n",
       "        text-align: right;\n",
       "    }\n",
       "</style>\n",
       "<table border=\"1\" class=\"dataframe\">\n",
       "  <thead>\n",
       "    <tr style=\"text-align: right;\">\n",
       "      <th></th>\n",
       "      <th>id</th>\n",
       "      <th>release_date</th>\n",
       "      <th>movie</th>\n",
       "      <th>production_budget</th>\n",
       "      <th>domestic_gross</th>\n",
       "      <th>worldwide_gross</th>\n",
       "    </tr>\n",
       "  </thead>\n",
       "  <tbody>\n",
       "    <tr>\n",
       "      <th>0</th>\n",
       "      <td>1</td>\n",
       "      <td>Dec 18, 2009</td>\n",
       "      <td>Avatar</td>\n",
       "      <td>425000000</td>\n",
       "      <td>760507625</td>\n",
       "      <td>2.776345e+09</td>\n",
       "    </tr>\n",
       "    <tr>\n",
       "      <th>1</th>\n",
       "      <td>2</td>\n",
       "      <td>May 20, 2011</td>\n",
       "      <td>Pirates of the Caribbean: On Stranger Tides</td>\n",
       "      <td>410600000</td>\n",
       "      <td>241063875</td>\n",
       "      <td>1.045664e+09</td>\n",
       "    </tr>\n",
       "    <tr>\n",
       "      <th>2</th>\n",
       "      <td>3</td>\n",
       "      <td>Jun 7, 2019</td>\n",
       "      <td>Dark Phoenix</td>\n",
       "      <td>350000000</td>\n",
       "      <td>42762350</td>\n",
       "      <td>1.497624e+08</td>\n",
       "    </tr>\n",
       "    <tr>\n",
       "      <th>3</th>\n",
       "      <td>4</td>\n",
       "      <td>May 1, 2015</td>\n",
       "      <td>Avengers: Age of Ultron</td>\n",
       "      <td>330600000</td>\n",
       "      <td>459005868</td>\n",
       "      <td>1.403014e+09</td>\n",
       "    </tr>\n",
       "    <tr>\n",
       "      <th>4</th>\n",
       "      <td>5</td>\n",
       "      <td>Dec 15, 2017</td>\n",
       "      <td>Star Wars Ep. VIII: The Last Jedi</td>\n",
       "      <td>317000000</td>\n",
       "      <td>620181382</td>\n",
       "      <td>1.316722e+09</td>\n",
       "    </tr>\n",
       "  </tbody>\n",
       "</table>\n",
       "</div>"
      ],
      "text/plain": [
       "   id  release_date                                        movie  \\\n",
       "0   1  Dec 18, 2009                                       Avatar   \n",
       "1   2  May 20, 2011  Pirates of the Caribbean: On Stranger Tides   \n",
       "2   3   Jun 7, 2019                                 Dark Phoenix   \n",
       "3   4   May 1, 2015                      Avengers: Age of Ultron   \n",
       "4   5  Dec 15, 2017            Star Wars Ep. VIII: The Last Jedi   \n",
       "\n",
       "   production_budget  domestic_gross  worldwide_gross  \n",
       "0          425000000       760507625     2.776345e+09  \n",
       "1          410600000       241063875     1.045664e+09  \n",
       "2          350000000        42762350     1.497624e+08  \n",
       "3          330600000       459005868     1.403014e+09  \n",
       "4          317000000       620181382     1.316722e+09  "
      ]
     },
     "execution_count": 150,
     "metadata": {},
     "output_type": "execute_result"
    }
   ],
   "source": [
    "\n",
    "tnmovie_budgets['production_budget'] = tnmovie_budgets['production_budget'].str.replace(',', '')\n",
    "tnmovie_budgets['production_budget'] = tnmovie_budgets['production_budget'].str.replace('$', '')\n",
    "tnmovie_budgets['production_budget'] = tnmovie_budgets['production_budget'].astype(int)\n",
    "\n",
    "\n",
    "tnmovie_budgets['domestic_gross'] = tnmovie_budgets['domestic_gross'].str.replace(',', '')\n",
    "tnmovie_budgets['domestic_gross'] = tnmovie_budgets['domestic_gross'].str.replace('$', '')\n",
    "tnmovie_budgets['domestic_gross'] = tnmovie_budgets['domestic_gross'].astype(int)\n",
    "\n",
    "tnmovie_budgets['worldwide_gross'] = tnmovie_budgets['worldwide_gross'].str.replace(',', '')\n",
    "tnmovie_budgets['worldwide_gross'] = tnmovie_budgets['worldwide_gross'].str.replace('$', '')\n",
    "tnmovie_budgets['worldwide_gross'] = tnmovie_budgets['worldwide_gross'].astype(float)\n",
    "\n",
    "tnmovie_budgets.head()"
   ]
  },
  {
   "cell_type": "code",
   "execution_count": 151,
   "metadata": {},
   "outputs": [
    {
     "data": {
      "text/plain": [
       "0"
      ]
     },
     "execution_count": 151,
     "metadata": {},
     "output_type": "execute_result"
    }
   ],
   "source": [
    "(tnmovie_budgets['production_budget'].values == 0).sum()"
   ]
  },
  {
   "cell_type": "code",
   "execution_count": 152,
   "metadata": {},
   "outputs": [
    {
     "data": {
      "text/plain": [
       "548"
      ]
     },
     "execution_count": 152,
     "metadata": {},
     "output_type": "execute_result"
    }
   ],
   "source": [
    "(tnmovie_budgets['domestic_gross'].values == 0).sum()\n",
    "#548"
   ]
  },
  {
   "cell_type": "code",
   "execution_count": 153,
   "metadata": {},
   "outputs": [
    {
     "data": {
      "text/plain": [
       "367"
      ]
     },
     "execution_count": 153,
     "metadata": {},
     "output_type": "execute_result"
    }
   ],
   "source": [
    "(tnmovie_budgets['worldwide_gross'].values == 0).sum() #367"
   ]
  },
  {
   "cell_type": "code",
   "execution_count": 154,
   "metadata": {},
   "outputs": [],
   "source": [
    "index_drop = tnmovie_budgets[tnmovie_budgets['domestic_gross'] == 0].index\n",
    "tnmovie_budgets.drop(index_drop, inplace = True)"
   ]
  },
  {
   "cell_type": "code",
   "execution_count": 155,
   "metadata": {},
   "outputs": [
    {
     "data": {
      "text/plain": [
       "0"
      ]
     },
     "execution_count": 155,
     "metadata": {},
     "output_type": "execute_result"
    }
   ],
   "source": [
    "index_drop2 = tnmovie_budgets[tnmovie_budgets['worldwide_gross'] == 0].index\n",
    "tnmovie_budgets.drop(index_drop2, inplace = True)\n",
    "(tnmovie_budgets['worldwide_gross'].values == 0).sum()"
   ]
  },
  {
   "cell_type": "code",
   "execution_count": 156,
   "metadata": {},
   "outputs": [
    {
     "data": {
      "text/html": [
       "<div>\n",
       "<style scoped>\n",
       "    .dataframe tbody tr th:only-of-type {\n",
       "        vertical-align: middle;\n",
       "    }\n",
       "\n",
       "    .dataframe tbody tr th {\n",
       "        vertical-align: top;\n",
       "    }\n",
       "\n",
       "    .dataframe thead th {\n",
       "        text-align: right;\n",
       "    }\n",
       "</style>\n",
       "<table border=\"1\" class=\"dataframe\">\n",
       "  <thead>\n",
       "    <tr style=\"text-align: right;\">\n",
       "      <th></th>\n",
       "      <th>id</th>\n",
       "      <th>production_budget</th>\n",
       "      <th>domestic_gross</th>\n",
       "      <th>worldwide_gross</th>\n",
       "    </tr>\n",
       "  </thead>\n",
       "  <tbody>\n",
       "    <tr>\n",
       "      <th>count</th>\n",
       "      <td>5234.000000</td>\n",
       "      <td>5.234000e+03</td>\n",
       "      <td>5.234000e+03</td>\n",
       "      <td>5.234000e+03</td>\n",
       "    </tr>\n",
       "    <tr>\n",
       "      <th>mean</th>\n",
       "      <td>50.346580</td>\n",
       "      <td>3.403348e+07</td>\n",
       "      <td>4.625747e+07</td>\n",
       "      <td>1.007615e+08</td>\n",
       "    </tr>\n",
       "    <tr>\n",
       "      <th>std</th>\n",
       "      <td>28.848667</td>\n",
       "      <td>4.296048e+07</td>\n",
       "      <td>7.029651e+07</td>\n",
       "      <td>1.811226e+08</td>\n",
       "    </tr>\n",
       "    <tr>\n",
       "      <th>min</th>\n",
       "      <td>1.000000</td>\n",
       "      <td>1.100000e+03</td>\n",
       "      <td>3.880000e+02</td>\n",
       "      <td>4.010000e+02</td>\n",
       "    </tr>\n",
       "    <tr>\n",
       "      <th>25%</th>\n",
       "      <td>25.000000</td>\n",
       "      <td>6.500000e+06</td>\n",
       "      <td>4.289718e+06</td>\n",
       "      <td>8.142571e+06</td>\n",
       "    </tr>\n",
       "    <tr>\n",
       "      <th>50%</th>\n",
       "      <td>50.000000</td>\n",
       "      <td>2.000000e+07</td>\n",
       "      <td>2.198422e+07</td>\n",
       "      <td>3.543844e+07</td>\n",
       "    </tr>\n",
       "    <tr>\n",
       "      <th>75%</th>\n",
       "      <td>75.000000</td>\n",
       "      <td>4.500000e+07</td>\n",
       "      <td>5.756598e+07</td>\n",
       "      <td>1.093357e+08</td>\n",
       "    </tr>\n",
       "    <tr>\n",
       "      <th>max</th>\n",
       "      <td>100.000000</td>\n",
       "      <td>4.250000e+08</td>\n",
       "      <td>9.366622e+08</td>\n",
       "      <td>2.776345e+09</td>\n",
       "    </tr>\n",
       "  </tbody>\n",
       "</table>\n",
       "</div>"
      ],
      "text/plain": [
       "                id  production_budget  domestic_gross  worldwide_gross\n",
       "count  5234.000000       5.234000e+03    5.234000e+03     5.234000e+03\n",
       "mean     50.346580       3.403348e+07    4.625747e+07     1.007615e+08\n",
       "std      28.848667       4.296048e+07    7.029651e+07     1.811226e+08\n",
       "min       1.000000       1.100000e+03    3.880000e+02     4.010000e+02\n",
       "25%      25.000000       6.500000e+06    4.289718e+06     8.142571e+06\n",
       "50%      50.000000       2.000000e+07    2.198422e+07     3.543844e+07\n",
       "75%      75.000000       4.500000e+07    5.756598e+07     1.093357e+08\n",
       "max     100.000000       4.250000e+08    9.366622e+08     2.776345e+09"
      ]
     },
     "execution_count": 156,
     "metadata": {},
     "output_type": "execute_result"
    }
   ],
   "source": [
    "tnmovie_budgets.describe()"
   ]
  },
  {
   "cell_type": "markdown",
   "metadata": {},
   "source": [
    "I create new columns that count domestic gross, worldwide gross, and production budget in millions of dollars in order to make it easier to understand.  "
   ]
  },
  {
   "cell_type": "code",
   "execution_count": 157,
   "metadata": {},
   "outputs": [
    {
     "data": {
      "text/html": [
       "<div>\n",
       "<style scoped>\n",
       "    .dataframe tbody tr th:only-of-type {\n",
       "        vertical-align: middle;\n",
       "    }\n",
       "\n",
       "    .dataframe tbody tr th {\n",
       "        vertical-align: top;\n",
       "    }\n",
       "\n",
       "    .dataframe thead th {\n",
       "        text-align: right;\n",
       "    }\n",
       "</style>\n",
       "<table border=\"1\" class=\"dataframe\">\n",
       "  <thead>\n",
       "    <tr style=\"text-align: right;\">\n",
       "      <th></th>\n",
       "      <th>id</th>\n",
       "      <th>production_budget</th>\n",
       "      <th>domestic_gross</th>\n",
       "      <th>worldwide_gross</th>\n",
       "      <th>domestic_gross_mil</th>\n",
       "      <th>worldwide_gross_mil</th>\n",
       "      <th>production_budget_mil</th>\n",
       "    </tr>\n",
       "  </thead>\n",
       "  <tbody>\n",
       "    <tr>\n",
       "      <th>count</th>\n",
       "      <td>5234.000000</td>\n",
       "      <td>5.234000e+03</td>\n",
       "      <td>5.234000e+03</td>\n",
       "      <td>5.234000e+03</td>\n",
       "      <td>5234.000000</td>\n",
       "      <td>5234.000000</td>\n",
       "      <td>5234.000000</td>\n",
       "    </tr>\n",
       "    <tr>\n",
       "      <th>mean</th>\n",
       "      <td>50.346580</td>\n",
       "      <td>3.403348e+07</td>\n",
       "      <td>4.625747e+07</td>\n",
       "      <td>1.007615e+08</td>\n",
       "      <td>46.257466</td>\n",
       "      <td>100.761506</td>\n",
       "      <td>34.033480</td>\n",
       "    </tr>\n",
       "    <tr>\n",
       "      <th>std</th>\n",
       "      <td>28.848667</td>\n",
       "      <td>4.296048e+07</td>\n",
       "      <td>7.029651e+07</td>\n",
       "      <td>1.811226e+08</td>\n",
       "      <td>70.296510</td>\n",
       "      <td>181.122645</td>\n",
       "      <td>42.960481</td>\n",
       "    </tr>\n",
       "    <tr>\n",
       "      <th>min</th>\n",
       "      <td>1.000000</td>\n",
       "      <td>1.100000e+03</td>\n",
       "      <td>3.880000e+02</td>\n",
       "      <td>4.010000e+02</td>\n",
       "      <td>0.000388</td>\n",
       "      <td>0.000401</td>\n",
       "      <td>0.001100</td>\n",
       "    </tr>\n",
       "    <tr>\n",
       "      <th>25%</th>\n",
       "      <td>25.000000</td>\n",
       "      <td>6.500000e+06</td>\n",
       "      <td>4.289718e+06</td>\n",
       "      <td>8.142571e+06</td>\n",
       "      <td>4.289719</td>\n",
       "      <td>8.142571</td>\n",
       "      <td>6.500000</td>\n",
       "    </tr>\n",
       "    <tr>\n",
       "      <th>50%</th>\n",
       "      <td>50.000000</td>\n",
       "      <td>2.000000e+07</td>\n",
       "      <td>2.198422e+07</td>\n",
       "      <td>3.543844e+07</td>\n",
       "      <td>21.984223</td>\n",
       "      <td>35.438436</td>\n",
       "      <td>20.000000</td>\n",
       "    </tr>\n",
       "    <tr>\n",
       "      <th>75%</th>\n",
       "      <td>75.000000</td>\n",
       "      <td>4.500000e+07</td>\n",
       "      <td>5.756598e+07</td>\n",
       "      <td>1.093357e+08</td>\n",
       "      <td>57.565980</td>\n",
       "      <td>109.335661</td>\n",
       "      <td>45.000000</td>\n",
       "    </tr>\n",
       "    <tr>\n",
       "      <th>max</th>\n",
       "      <td>100.000000</td>\n",
       "      <td>4.250000e+08</td>\n",
       "      <td>9.366622e+08</td>\n",
       "      <td>2.776345e+09</td>\n",
       "      <td>936.662225</td>\n",
       "      <td>2776.345279</td>\n",
       "      <td>425.000000</td>\n",
       "    </tr>\n",
       "  </tbody>\n",
       "</table>\n",
       "</div>"
      ],
      "text/plain": [
       "                id  production_budget  domestic_gross  worldwide_gross  \\\n",
       "count  5234.000000       5.234000e+03    5.234000e+03     5.234000e+03   \n",
       "mean     50.346580       3.403348e+07    4.625747e+07     1.007615e+08   \n",
       "std      28.848667       4.296048e+07    7.029651e+07     1.811226e+08   \n",
       "min       1.000000       1.100000e+03    3.880000e+02     4.010000e+02   \n",
       "25%      25.000000       6.500000e+06    4.289718e+06     8.142571e+06   \n",
       "50%      50.000000       2.000000e+07    2.198422e+07     3.543844e+07   \n",
       "75%      75.000000       4.500000e+07    5.756598e+07     1.093357e+08   \n",
       "max     100.000000       4.250000e+08    9.366622e+08     2.776345e+09   \n",
       "\n",
       "       domestic_gross_mil  worldwide_gross_mil  production_budget_mil  \n",
       "count         5234.000000          5234.000000            5234.000000  \n",
       "mean            46.257466           100.761506              34.033480  \n",
       "std             70.296510           181.122645              42.960481  \n",
       "min              0.000388             0.000401               0.001100  \n",
       "25%              4.289719             8.142571               6.500000  \n",
       "50%             21.984223            35.438436              20.000000  \n",
       "75%             57.565980           109.335661              45.000000  \n",
       "max            936.662225          2776.345279             425.000000  "
      ]
     },
     "execution_count": 157,
     "metadata": {},
     "output_type": "execute_result"
    }
   ],
   "source": [
    "tnmovie_budgets['domestic_gross_mil']=tnmovie_budgets['domestic_gross']/1000000\n",
    "tnmovie_budgets['worldwide_gross_mil']=tnmovie_budgets['worldwide_gross']/1000000\n",
    "tnmovie_budgets['production_budget_mil']=tnmovie_budgets['production_budget']/1000000\n",
    "tnmovie_budgets.describe()"
   ]
  },
  {
   "cell_type": "markdown",
   "metadata": {},
   "source": [
    "The dataset has values for future movies, so I remove those entries. "
   ]
  },
  {
   "cell_type": "code",
   "execution_count": 158,
   "metadata": {},
   "outputs": [
    {
     "data": {
      "text/plain": [
       "array([2013, 2019, 2018, 2017, 2012, 2010, 2011, 2015, 2021, 2016, 2014,\n",
       "       2020, 2022, 2023, 2026, 2025, 2115, 2027, 2024], dtype=int64)"
      ]
     },
     "execution_count": 158,
     "metadata": {},
     "output_type": "execute_result"
    }
   ],
   "source": [
    "df_imdb_title['start_year'].unique()"
   ]
  },
  {
   "cell_type": "code",
   "execution_count": 159,
   "metadata": {},
   "outputs": [],
   "source": [
    "df_imdb_title.drop(df_imdb_title[df_imdb_title['start_year'] >= 2021].index, inplace = True)          "
   ]
  },
  {
   "cell_type": "markdown",
   "metadata": {},
   "source": [
    "### Merging datasets"
   ]
  },
  {
   "cell_type": "code",
   "execution_count": 160,
   "metadata": {},
   "outputs": [],
   "source": [
    "df_imdb_and_budget = pd.merge(tnmovie_budgets, df_imdb_title, how = \"left\", \n",
    "                              left_on = 'movie', right_on = 'primary_title')"
   ]
  },
  {
   "cell_type": "code",
   "execution_count": 162,
   "metadata": {},
   "outputs": [],
   "source": [
    "duplicates = df_imdb_title[df_imdb_title.duplicated(subset='primary_title')]"
   ]
  },
  {
   "cell_type": "code",
   "execution_count": 163,
   "metadata": {},
   "outputs": [],
   "source": [
    "df_imdb_title.sort_values(\"primary_title\", inplace = True)\n",
    "df_imdb_title = df_imdb_title.drop_duplicates(['primary_title'])"
   ]
  },
  {
   "cell_type": "code",
   "execution_count": 164,
   "metadata": {},
   "outputs": [],
   "source": [
    "df_imdb_and_budget = pd.merge(tnmovie_budgets, df_imdb_title, how = \"left\", \n",
    "                              left_on = 'movie', right_on = 'primary_title')"
   ]
  },
  {
   "cell_type": "code",
   "execution_count": 166,
   "metadata": {},
   "outputs": [],
   "source": [
    "df_imdb_ratings_and_budget = pd.merge(df_imdb_ratings_filtered, df_imdb_and_budget, how = \"right\", \n",
    "                              on ='tconst')"
   ]
  },
  {
   "cell_type": "markdown",
   "metadata": {},
   "source": [
    "## Analysis "
   ]
  },
  {
   "cell_type": "code",
   "execution_count": 167,
   "metadata": {},
   "outputs": [
    {
     "data": {
      "text/html": [
       "<div>\n",
       "<style scoped>\n",
       "    .dataframe tbody tr th:only-of-type {\n",
       "        vertical-align: middle;\n",
       "    }\n",
       "\n",
       "    .dataframe tbody tr th {\n",
       "        vertical-align: top;\n",
       "    }\n",
       "\n",
       "    .dataframe thead th {\n",
       "        text-align: right;\n",
       "    }\n",
       "</style>\n",
       "<table border=\"1\" class=\"dataframe\">\n",
       "  <thead>\n",
       "    <tr style=\"text-align: right;\">\n",
       "      <th></th>\n",
       "      <th>averagerating</th>\n",
       "      <th>numvotes</th>\n",
       "      <th>id</th>\n",
       "      <th>production_budget</th>\n",
       "      <th>domestic_gross</th>\n",
       "      <th>worldwide_gross</th>\n",
       "      <th>domestic_gross_mil</th>\n",
       "      <th>worldwide_gross_mil</th>\n",
       "      <th>production_budget_mil</th>\n",
       "      <th>start_year</th>\n",
       "    </tr>\n",
       "  </thead>\n",
       "  <tbody>\n",
       "    <tr>\n",
       "      <th>count</th>\n",
       "      <td>1526.000000</td>\n",
       "      <td>1.526000e+03</td>\n",
       "      <td>5234.000000</td>\n",
       "      <td>5.234000e+03</td>\n",
       "      <td>5.234000e+03</td>\n",
       "      <td>5.234000e+03</td>\n",
       "      <td>5234.000000</td>\n",
       "      <td>5234.000000</td>\n",
       "      <td>5234.000000</td>\n",
       "      <td>2047.000000</td>\n",
       "    </tr>\n",
       "    <tr>\n",
       "      <th>mean</th>\n",
       "      <td>6.341874</td>\n",
       "      <td>1.098556e+05</td>\n",
       "      <td>50.346580</td>\n",
       "      <td>3.403348e+07</td>\n",
       "      <td>4.625747e+07</td>\n",
       "      <td>1.007615e+08</td>\n",
       "      <td>46.257466</td>\n",
       "      <td>100.761506</td>\n",
       "      <td>34.033480</td>\n",
       "      <td>2014.131412</td>\n",
       "    </tr>\n",
       "    <tr>\n",
       "      <th>std</th>\n",
       "      <td>1.000444</td>\n",
       "      <td>1.633804e+05</td>\n",
       "      <td>28.848667</td>\n",
       "      <td>4.296048e+07</td>\n",
       "      <td>7.029651e+07</td>\n",
       "      <td>1.811226e+08</td>\n",
       "      <td>70.296510</td>\n",
       "      <td>181.122645</td>\n",
       "      <td>42.960481</td>\n",
       "      <td>2.716811</td>\n",
       "    </tr>\n",
       "    <tr>\n",
       "      <th>min</th>\n",
       "      <td>1.600000</td>\n",
       "      <td>1.010000e+02</td>\n",
       "      <td>1.000000</td>\n",
       "      <td>1.100000e+03</td>\n",
       "      <td>3.880000e+02</td>\n",
       "      <td>4.010000e+02</td>\n",
       "      <td>0.000388</td>\n",
       "      <td>0.000401</td>\n",
       "      <td>0.001100</td>\n",
       "      <td>2010.000000</td>\n",
       "    </tr>\n",
       "    <tr>\n",
       "      <th>25%</th>\n",
       "      <td>5.800000</td>\n",
       "      <td>1.144325e+04</td>\n",
       "      <td>25.000000</td>\n",
       "      <td>6.500000e+06</td>\n",
       "      <td>4.289718e+06</td>\n",
       "      <td>8.142571e+06</td>\n",
       "      <td>4.289719</td>\n",
       "      <td>8.142571</td>\n",
       "      <td>6.500000</td>\n",
       "      <td>2012.000000</td>\n",
       "    </tr>\n",
       "    <tr>\n",
       "      <th>50%</th>\n",
       "      <td>6.400000</td>\n",
       "      <td>5.318500e+04</td>\n",
       "      <td>50.000000</td>\n",
       "      <td>2.000000e+07</td>\n",
       "      <td>2.198422e+07</td>\n",
       "      <td>3.543844e+07</td>\n",
       "      <td>21.984223</td>\n",
       "      <td>35.438436</td>\n",
       "      <td>20.000000</td>\n",
       "      <td>2014.000000</td>\n",
       "    </tr>\n",
       "    <tr>\n",
       "      <th>75%</th>\n",
       "      <td>7.000000</td>\n",
       "      <td>1.338635e+05</td>\n",
       "      <td>75.000000</td>\n",
       "      <td>4.500000e+07</td>\n",
       "      <td>5.756598e+07</td>\n",
       "      <td>1.093357e+08</td>\n",
       "      <td>57.565980</td>\n",
       "      <td>109.335661</td>\n",
       "      <td>45.000000</td>\n",
       "      <td>2016.000000</td>\n",
       "    </tr>\n",
       "    <tr>\n",
       "      <th>max</th>\n",
       "      <td>9.000000</td>\n",
       "      <td>1.841066e+06</td>\n",
       "      <td>100.000000</td>\n",
       "      <td>4.250000e+08</td>\n",
       "      <td>9.366622e+08</td>\n",
       "      <td>2.776345e+09</td>\n",
       "      <td>936.662225</td>\n",
       "      <td>2776.345279</td>\n",
       "      <td>425.000000</td>\n",
       "      <td>2020.000000</td>\n",
       "    </tr>\n",
       "  </tbody>\n",
       "</table>\n",
       "</div>"
      ],
      "text/plain": [
       "       averagerating      numvotes           id  production_budget  \\\n",
       "count    1526.000000  1.526000e+03  5234.000000       5.234000e+03   \n",
       "mean        6.341874  1.098556e+05    50.346580       3.403348e+07   \n",
       "std         1.000444  1.633804e+05    28.848667       4.296048e+07   \n",
       "min         1.600000  1.010000e+02     1.000000       1.100000e+03   \n",
       "25%         5.800000  1.144325e+04    25.000000       6.500000e+06   \n",
       "50%         6.400000  5.318500e+04    50.000000       2.000000e+07   \n",
       "75%         7.000000  1.338635e+05    75.000000       4.500000e+07   \n",
       "max         9.000000  1.841066e+06   100.000000       4.250000e+08   \n",
       "\n",
       "       domestic_gross  worldwide_gross  domestic_gross_mil  \\\n",
       "count    5.234000e+03     5.234000e+03         5234.000000   \n",
       "mean     4.625747e+07     1.007615e+08           46.257466   \n",
       "std      7.029651e+07     1.811226e+08           70.296510   \n",
       "min      3.880000e+02     4.010000e+02            0.000388   \n",
       "25%      4.289718e+06     8.142571e+06            4.289719   \n",
       "50%      2.198422e+07     3.543844e+07           21.984223   \n",
       "75%      5.756598e+07     1.093357e+08           57.565980   \n",
       "max      9.366622e+08     2.776345e+09          936.662225   \n",
       "\n",
       "       worldwide_gross_mil  production_budget_mil   start_year  \n",
       "count          5234.000000            5234.000000  2047.000000  \n",
       "mean            100.761506              34.033480  2014.131412  \n",
       "std             181.122645              42.960481     2.716811  \n",
       "min               0.000401               0.001100  2010.000000  \n",
       "25%               8.142571               6.500000  2012.000000  \n",
       "50%              35.438436              20.000000  2014.000000  \n",
       "75%             109.335661              45.000000  2016.000000  \n",
       "max            2776.345279             425.000000  2020.000000  "
      ]
     },
     "execution_count": 167,
     "metadata": {},
     "output_type": "execute_result"
    }
   ],
   "source": [
    "df_imdb_ratings_and_budget.describe()"
   ]
  },
  {
   "cell_type": "markdown",
   "metadata": {},
   "source": [
    "I create a new column that calculates the return on investment for worldwide gross. I then calculate median and mean values for production budget, domestic gross, worldwide gross, and worldwide return on investment for each genre in order to see which genres are most profitable. "
   ]
  },
  {
   "cell_type": "code",
   "execution_count": 168,
   "metadata": {
    "scrolled": true
   },
   "outputs": [
    {
     "data": {
      "text/html": [
       "<div>\n",
       "<style scoped>\n",
       "    .dataframe tbody tr th:only-of-type {\n",
       "        vertical-align: middle;\n",
       "    }\n",
       "\n",
       "    .dataframe tbody tr th {\n",
       "        vertical-align: top;\n",
       "    }\n",
       "\n",
       "    .dataframe thead th {\n",
       "        text-align: right;\n",
       "    }\n",
       "</style>\n",
       "<table border=\"1\" class=\"dataframe\">\n",
       "  <thead>\n",
       "    <tr style=\"text-align: right;\">\n",
       "      <th></th>\n",
       "      <th>tconst</th>\n",
       "      <th>averagerating</th>\n",
       "      <th>numvotes</th>\n",
       "      <th>id</th>\n",
       "      <th>release_date</th>\n",
       "      <th>movie</th>\n",
       "      <th>production_budget</th>\n",
       "      <th>domestic_gross</th>\n",
       "      <th>worldwide_gross</th>\n",
       "      <th>domestic_gross_mil</th>\n",
       "      <th>...</th>\n",
       "      <th>History</th>\n",
       "      <th>Mystery</th>\n",
       "      <th>Sci-Fi</th>\n",
       "      <th>Romance</th>\n",
       "      <th>Family</th>\n",
       "      <th>War</th>\n",
       "      <th>Music</th>\n",
       "      <th>Sport</th>\n",
       "      <th>Western</th>\n",
       "      <th>w_roi</th>\n",
       "    </tr>\n",
       "  </thead>\n",
       "  <tbody>\n",
       "    <tr>\n",
       "      <th>0</th>\n",
       "      <td>tt1775309</td>\n",
       "      <td>NaN</td>\n",
       "      <td>NaN</td>\n",
       "      <td>1</td>\n",
       "      <td>Dec 18, 2009</td>\n",
       "      <td>Avatar</td>\n",
       "      <td>425000000</td>\n",
       "      <td>760507625</td>\n",
       "      <td>2.776345e+09</td>\n",
       "      <td>760.507625</td>\n",
       "      <td>...</td>\n",
       "      <td>False</td>\n",
       "      <td>False</td>\n",
       "      <td>False</td>\n",
       "      <td>False</td>\n",
       "      <td>False</td>\n",
       "      <td>False</td>\n",
       "      <td>False</td>\n",
       "      <td>False</td>\n",
       "      <td>False</td>\n",
       "      <td>5.532577</td>\n",
       "    </tr>\n",
       "    <tr>\n",
       "      <th>1</th>\n",
       "      <td>tt1298650</td>\n",
       "      <td>6.6</td>\n",
       "      <td>447624.0</td>\n",
       "      <td>2</td>\n",
       "      <td>May 20, 2011</td>\n",
       "      <td>Pirates of the Caribbean: On Stranger Tides</td>\n",
       "      <td>410600000</td>\n",
       "      <td>241063875</td>\n",
       "      <td>1.045664e+09</td>\n",
       "      <td>241.063875</td>\n",
       "      <td>...</td>\n",
       "      <td>False</td>\n",
       "      <td>False</td>\n",
       "      <td>False</td>\n",
       "      <td>False</td>\n",
       "      <td>False</td>\n",
       "      <td>False</td>\n",
       "      <td>False</td>\n",
       "      <td>False</td>\n",
       "      <td>False</td>\n",
       "      <td>1.546673</td>\n",
       "    </tr>\n",
       "    <tr>\n",
       "      <th>2</th>\n",
       "      <td>tt6565702</td>\n",
       "      <td>6.0</td>\n",
       "      <td>24451.0</td>\n",
       "      <td>3</td>\n",
       "      <td>Jun 7, 2019</td>\n",
       "      <td>Dark Phoenix</td>\n",
       "      <td>350000000</td>\n",
       "      <td>42762350</td>\n",
       "      <td>1.497624e+08</td>\n",
       "      <td>42.762350</td>\n",
       "      <td>...</td>\n",
       "      <td>False</td>\n",
       "      <td>False</td>\n",
       "      <td>True</td>\n",
       "      <td>False</td>\n",
       "      <td>False</td>\n",
       "      <td>False</td>\n",
       "      <td>False</td>\n",
       "      <td>False</td>\n",
       "      <td>False</td>\n",
       "      <td>-0.572108</td>\n",
       "    </tr>\n",
       "    <tr>\n",
       "      <th>3</th>\n",
       "      <td>tt2395427</td>\n",
       "      <td>7.3</td>\n",
       "      <td>665594.0</td>\n",
       "      <td>4</td>\n",
       "      <td>May 1, 2015</td>\n",
       "      <td>Avengers: Age of Ultron</td>\n",
       "      <td>330600000</td>\n",
       "      <td>459005868</td>\n",
       "      <td>1.403014e+09</td>\n",
       "      <td>459.005868</td>\n",
       "      <td>...</td>\n",
       "      <td>False</td>\n",
       "      <td>False</td>\n",
       "      <td>True</td>\n",
       "      <td>False</td>\n",
       "      <td>False</td>\n",
       "      <td>False</td>\n",
       "      <td>False</td>\n",
       "      <td>False</td>\n",
       "      <td>False</td>\n",
       "      <td>3.243841</td>\n",
       "    </tr>\n",
       "    <tr>\n",
       "      <th>4</th>\n",
       "      <td>NaN</td>\n",
       "      <td>NaN</td>\n",
       "      <td>NaN</td>\n",
       "      <td>5</td>\n",
       "      <td>Dec 15, 2017</td>\n",
       "      <td>Star Wars Ep. VIII: The Last Jedi</td>\n",
       "      <td>317000000</td>\n",
       "      <td>620181382</td>\n",
       "      <td>1.316722e+09</td>\n",
       "      <td>620.181382</td>\n",
       "      <td>...</td>\n",
       "      <td>NaN</td>\n",
       "      <td>NaN</td>\n",
       "      <td>NaN</td>\n",
       "      <td>NaN</td>\n",
       "      <td>NaN</td>\n",
       "      <td>NaN</td>\n",
       "      <td>NaN</td>\n",
       "      <td>NaN</td>\n",
       "      <td>NaN</td>\n",
       "      <td>3.153696</td>\n",
       "    </tr>\n",
       "  </tbody>\n",
       "</table>\n",
       "<p>5 rows × 37 columns</p>\n",
       "</div>"
      ],
      "text/plain": [
       "      tconst  averagerating  numvotes  id  release_date  \\\n",
       "0  tt1775309            NaN       NaN   1  Dec 18, 2009   \n",
       "1  tt1298650            6.6  447624.0   2  May 20, 2011   \n",
       "2  tt6565702            6.0   24451.0   3   Jun 7, 2019   \n",
       "3  tt2395427            7.3  665594.0   4   May 1, 2015   \n",
       "4        NaN            NaN       NaN   5  Dec 15, 2017   \n",
       "\n",
       "                                         movie  production_budget  \\\n",
       "0                                       Avatar          425000000   \n",
       "1  Pirates of the Caribbean: On Stranger Tides          410600000   \n",
       "2                                 Dark Phoenix          350000000   \n",
       "3                      Avengers: Age of Ultron          330600000   \n",
       "4            Star Wars Ep. VIII: The Last Jedi          317000000   \n",
       "\n",
       "   domestic_gross  worldwide_gross  domestic_gross_mil  ...  History  Mystery  \\\n",
       "0       760507625     2.776345e+09          760.507625  ...    False    False   \n",
       "1       241063875     1.045664e+09          241.063875  ...    False    False   \n",
       "2        42762350     1.497624e+08           42.762350  ...    False    False   \n",
       "3       459005868     1.403014e+09          459.005868  ...    False    False   \n",
       "4       620181382     1.316722e+09          620.181382  ...      NaN      NaN   \n",
       "\n",
       "  Sci-Fi  Romance Family    War  Music  Sport Western     w_roi  \n",
       "0  False    False  False  False  False  False   False  5.532577  \n",
       "1  False    False  False  False  False  False   False  1.546673  \n",
       "2   True    False  False  False  False  False   False -0.572108  \n",
       "3   True    False  False  False  False  False   False  3.243841  \n",
       "4    NaN      NaN    NaN    NaN    NaN    NaN     NaN  3.153696  \n",
       "\n",
       "[5 rows x 37 columns]"
      ]
     },
     "execution_count": 168,
     "metadata": {},
     "output_type": "execute_result"
    }
   ],
   "source": [
    "difference = df_imdb_ratings_and_budget['worldwide_gross'] - df_imdb_ratings_and_budget['production_budget']\n",
    "df_imdb_ratings_and_budget['w_roi']=difference/df_imdb_ratings_and_budget['production_budget']"
   ]
  },
  {
   "cell_type": "code",
   "execution_count": 169,
   "metadata": {},
   "outputs": [],
   "source": [
    "#calculate values for genres\n",
    "genre_statistics = {}\n",
    "for genre in unique_genres:\n",
    "    tempdf = df_imdb_ratings_and_budget.loc[df_imdb_ratings_and_budget[genre] == True]\n",
    "    productionbudgmed = tempdf['production_budget'].median()/1000000\n",
    "    productionbudmean = tempdf['production_budget'].mean()/1000000\n",
    "    domestic_grossmed = tempdf['domestic_gross'].median()/1000000\n",
    "    domestic_grossmean = tempdf['domestic_gross'].mean()/1000000\n",
    "    world_grossmed = tempdf['worldwide_gross'].median()/1000000\n",
    "    world_grossmean = tempdf['worldwide_gross'].mean()/1000000\n",
    "    average_ratingmean = tempdf['averagerating'].mean()\n",
    "    numvotes_count = tempdf['numvotes'].sum()\n",
    "    w_roi_mean = tempdf['w_roi'].mean()\n",
    "    w_roi_med = tempdf['w_roi'].median()\n",
    "    genre_entry = {'genre_name': genre, 'productionbudgmed': productionbudgmed, 'productionbudmean': productionbudmean,\n",
    "                   'domestic_grossmed':domestic_grossmed, 'domestic_grossmean': domestic_grossmean,\n",
    "                   'world_grossmed': world_grossmed, 'world_grossmean': world_grossmean, \n",
    "                   'average_rating': average_ratingmean, 'numvotes_count': numvotes_count, 'w_roi_mean': w_roi_mean,\n",
    "                   'w_roi_med': w_roi_med}\n",
    "    genre_statistics[genre] = genre_entry"
   ]
  },
  {
   "cell_type": "code",
   "execution_count": 170,
   "metadata": {},
   "outputs": [],
   "source": [
    "dfgenre = pd.DataFrame(genre_statistics)\n",
    "dfgenretransposed = dfgenre.transpose()"
   ]
  },
  {
   "cell_type": "markdown",
   "metadata": {},
   "source": [
    "### Budget"
   ]
  },
  {
   "cell_type": "markdown",
   "metadata": {},
   "source": [
    "The following graphs compare production budget with gross revenue, for domestic and worldwide audiences.  Budgets of above 200 million come with greater risk, so I recommend starting with budgets below 200 million.  "
   ]
  },
  {
   "cell_type": "code",
   "execution_count": 171,
   "metadata": {},
   "outputs": [
    {
     "data": {
      "text/plain": [
       "Text(0, 0.5, 'Domestic Gross in Millions')"
      ]
     },
     "execution_count": 171,
     "metadata": {},
     "output_type": "execute_result"
    },
    {
     "data": {
      "image/png": "[encoded data removed]",
      "text/plain": [
       "<Figure size 864x576 with 1 Axes>"
      ]
     },
     "metadata": {
      "needs_background": "light"
     },
     "output_type": "display_data"
    }
   ],
   "source": [
    "fig, ax = plt.subplots(figsize = (12,8))\n",
    "sns.lineplot(data=df_imdb_ratings_and_budget, x=\"production_budget_mil\", y=\"domestic_gross_mil\")\n",
    "plt.title('Budget versus Domestic Gross')\n",
    "plt.xlabel('Production Budget in Millions')\n",
    "plt.ylabel('Domestic Gross in Millions')"
   ]
  },
  {
   "cell_type": "code",
   "execution_count": 172,
   "metadata": {},
   "outputs": [
    {
     "data": {
      "image/png": "[encoded data removed]",
      "text/plain": [
       "<Figure size 864x576 with 1 Axes>"
      ]
     },
     "metadata": {
      "needs_background": "light"
     },
     "output_type": "display_data"
    }
   ],
   "source": [
    "fig, ax = plt.subplots(figsize = (12,8))\n",
    "sns.lineplot(data=df_imdb_ratings_and_budget, x=\"production_budget_mil\", y=\"worldwide_gross_mil\")\n",
    "plt.title('Budget versus Worldwide Gross')\n",
    "plt.xlabel('Production Budget in Millions')\n",
    "plt.ylabel('Worldwide Gross in Millions')\n",
    "plt.savefig('Images/budgetandworldwidegross')"
   ]
  },
  {
   "cell_type": "markdown",
   "metadata": {},
   "source": [
    "### Genre"
   ]
  },
  {
   "cell_type": "markdown",
   "metadata": {},
   "source": [
    "Adventure and Animation movies tend to have the highest budgets. "
   ]
  },
  {
   "cell_type": "code",
   "execution_count": 173,
   "metadata": {},
   "outputs": [
    {
     "data": {
      "image/png": "[encoded data removed]",
      "text/plain": [
       "<Figure size 432x288 with 1 Axes>"
      ]
     },
     "metadata": {
      "needs_background": "light"
     },
     "output_type": "display_data"
    }
   ],
   "source": [
    "plt.barh(dfgenretransposed['genre_name'], dfgenretransposed['productionbudgmed'])\n",
    "plt.title('Production Budget by Genre')\n",
    "plt.xlabel('Production Budget in Millions')\n",
    "plt.ylabel('Genre')\n",
    "plt.show()"
   ]
  },
  {
   "cell_type": "markdown",
   "metadata": {},
   "source": [
    "Animation and adventure have the highest domestic gross medians, followed by family, sci-fi, and family. "
   ]
  },
  {
   "cell_type": "code",
   "execution_count": 174,
   "metadata": {},
   "outputs": [
    {
     "data": {
      "text/plain": [
       "Text(0, 0.5, 'Domestic Gross Median in Millions')"
      ]
     },
     "execution_count": 174,
     "metadata": {},
     "output_type": "execute_result"
    },
    {
     "data": {
      "image/png": "[encoded data removed]",
      "text/plain": [
       "<Figure size 432x288 with 1 Axes>"
      ]
     },
     "metadata": {
      "needs_background": "light"
     },
     "output_type": "display_data"
    }
   ],
   "source": [
    "plt.barh(dfgenretransposed['genre_name'], dfgenretransposed['domestic_grossmed'])\n",
    "plt.title('Domestic Gross by Genre')\n",
    "plt.xlabel('Genre')\n",
    "plt.ylabel('Domestic Gross Median in Millions')"
   ]
  },
  {
   "cell_type": "markdown",
   "metadata": {},
   "source": [
    "Animation and adventure have the highest world gross medians, followed by sci-fi and action. "
   ]
  },
  {
   "cell_type": "code",
   "execution_count": 175,
   "metadata": {},
   "outputs": [
    {
     "data": {
      "text/plain": [
       "Text(0, 0.5, 'World Gross Median in Millions')"
      ]
     },
     "execution_count": 175,
     "metadata": {},
     "output_type": "execute_result"
    },
    {
     "data": {
      "image/png": "[encoded data removed]",
      "text/plain": [
       "<Figure size 432x288 with 1 Axes>"
      ]
     },
     "metadata": {
      "needs_background": "light"
     },
     "output_type": "display_data"
    }
   ],
   "source": [
    "plt.barh(dfgenretransposed['genre_name'], dfgenretransposed['world_grossmed'])\n",
    "plt.title('World Gross by Genre')\n",
    "plt.xlabel('Genre')\n",
    "plt.ylabel('World Gross Median in Millions')"
   ]
  },
  {
   "cell_type": "markdown",
   "metadata": {},
   "source": [
    "Animation, adventure, and sci-fi are the three highest performing genres in the worldwide market, with median worldwide gross values significantly higher than median production budgets.  Median domestic gross for adventure is below the median production budget, and the median domestic gross for animation is only slightly higher than median production budget.  Therefore, we should focus on releasing movies worldwide. \n",
    "\n",
    "In addition, horror movies have very low production budgets but high domestic and world gross revenue.  For this reason, I recommend also making movies in the horror genre. "
   ]
  },
  {
   "cell_type": "code",
   "execution_count": 176,
   "metadata": {},
   "outputs": [
    {
     "data": {
      "image/png": "[encoded data removed]",
      "text/plain": [
       "<Figure size 864x576 with 1 Axes>"
      ]
     },
     "metadata": {
      "needs_background": "light"
     },
     "output_type": "display_data"
    }
   ],
   "source": [
    "dfgenretransposed.plot(x=\"genre_name\", y=[\"world_grossmed\", \"domestic_grossmed\", \"productionbudgmed\"], kind = \"bar\", width = .7, figsize = (12,8))\n",
    "plt.title('Budget and Gross by Genre')\n",
    "plt.xlabel('Genre')\n",
    "plt.ylabel('in Millions')\n",
    "plt.savefig('Images/budgetandgrossbygenre')"
   ]
  },
  {
   "cell_type": "markdown",
   "metadata": {},
   "source": [
    "### Worldwide Return on Investment"
   ]
  },
  {
   "cell_type": "markdown",
   "metadata": {},
   "source": [
    "Horror and Animation have the highest median worldwide return on investments, followed by adventure, mystery, and sci-fi.  \n",
    "\n",
    "Western, sports movies, and history movies have very low worldwide return on investments. Therefore, we should refrain from making movies in those genres. "
   ]
  },
  {
   "cell_type": "code",
   "execution_count": 177,
   "metadata": {},
   "outputs": [
    {
     "data": {
      "image/png": "[encoded data removed]",
      "text/plain": [
       "<Figure size 864x576 with 1 Axes>"
      ]
     },
     "metadata": {
      "needs_background": "light"
     },
     "output_type": "display_data"
    }
   ],
   "source": [
    "dfgenretransposed = dfgenretransposed.sort_values(by=['w_roi_med'])\n",
    "dfgenretransposed.plot(x=\"genre_name\", y=\"w_roi_med\", kind = \"bar\", width = .7, figsize = (12,8))\n",
    "plt.title('Worldwide Return on Investment by Genre', fontsize = 15)\n",
    "plt.xlabel('Genre', fontsize = 15)\n",
    "plt.ylabel('Median Worldwide Return on Investment Millions', fontsize = 15)\n",
    "plt.savefig('Images/worldwideroi')"
   ]
  },
  {
   "cell_type": "markdown",
   "metadata": {},
   "source": [
    "### Ratings and Reviewers"
   ]
  },
  {
   "cell_type": "markdown",
   "metadata": {},
   "source": [
    "Genres with the highest ratings are not the same as genres with the highest revenues.  "
   ]
  },
  {
   "cell_type": "code",
   "execution_count": 178,
   "metadata": {},
   "outputs": [
    {
     "data": {
      "text/plain": [
       "Text(0, 0.5, 'Average Rating')"
      ]
     },
     "execution_count": 178,
     "metadata": {},
     "output_type": "execute_result"
    },
    {
     "data": {
      "image/png": "[encoded data removed]",
      "text/plain": [
       "<Figure size 864x576 with 1 Axes>"
      ]
     },
     "metadata": {
      "needs_background": "light"
     },
     "output_type": "display_data"
    }
   ],
   "source": [
    "dfgenretransposed = dfgenretransposed.sort_values(by=['average_rating'])\n",
    "dfgenretransposed.plot(x=\"genre_name\", y='average_rating', kind = \"bar\", width = .7, figsize = (12,8))\n",
    "plt.title('Average Rating for Genres')\n",
    "plt.xlabel('Genre')\n",
    "plt.ylabel('Average Rating')\n"
   ]
  },
  {
   "cell_type": "markdown",
   "metadata": {},
   "source": [
    "Action, drama, and adventure movies have a much higher number of reviewers than other genres. "
   ]
  },
  {
   "cell_type": "code",
   "execution_count": 179,
   "metadata": {},
   "outputs": [
    {
     "data": {
      "text/plain": [
       "Text(0, 0.5, 'Number of Reviewers')"
      ]
     },
     "execution_count": 179,
     "metadata": {},
     "output_type": "execute_result"
    },
    {
     "data": {
      "image/png": "[encoded data removed]",
      "text/plain": [
       "<Figure size 864x576 with 1 Axes>"
      ]
     },
     "metadata": {
      "needs_background": "light"
     },
     "output_type": "display_data"
    }
   ],
   "source": [
    "dfgenretransposed = dfgenretransposed.sort_values(by=['numvotes_count'])\n",
    "dfgenretransposed.plot(x=\"genre_name\", y='numvotes_count', kind = \"bar\", width = .7, figsize = (12,8))\n",
    "plt.title('Number of Reviewers by Genre')\n",
    "plt.xlabel('Genre')\n",
    "plt.ylabel('Number of Reviewers')"
   ]
  },
  {
   "cell_type": "markdown",
   "metadata": {},
   "source": [
    "## Conclusions"
   ]
  },
  {
   "cell_type": "markdown",
   "metadata": {},
   "source": [
    "This analysis leads the following conclusions for entering the movie market:\n",
    "* **Focus on releasing movies to a worldwide audience instead of just domestically.**  Gross revenues were much higher worldwide.  Domestic revenues were often just above production budget, or even below it. \n",
    "* **Focus on creating animation, adventure, and sci-fi movies.** These movies generate high box office revenue for the worldwide market.  However, adventure movies are riskier domestically. \n",
    "* **In addition, make horror movies.**  Horror movies require relatively low budgets and generate a very high return on investment both domestically and worldwide. \n",
    "* **Keep the budget at 200 million or below.** Budgets higher than 200 million carried greater risk. "
   ]
  },
  {
   "cell_type": "markdown",
   "metadata": {},
   "source": [
    "## Next Steps "
   ]
  },
  {
   "cell_type": "markdown",
   "metadata": {},
   "source": [
    "Further analyses could yield even greater insights into profitable movie choices. \n",
    "* Further analysis of public perception in terms of favorite movies and profits.   \n",
    "* Analysis of streaming services.  Especially in terms of today's market and COVID, research should be done regarding releasing movies to streaming services instead of or in addition to box offices.  \n",
    "* Analysis of awards and whether awards correlate with profits. \n"
   ]
  }
 ],
 "metadata": {
  "kernelspec": {
   "display_name": "Python 3",
   "language": "python",
   "name": "python3"
  },
  "language_info": {
   "codemirror_mode": {
    "name": "ipython",
    "version": 3
   },
   "file_extension": ".py",
   "mimetype": "text/x-python",
   "name": "python",
   "nbconvert_exporter": "python",
   "pygments_lexer": "ipython3",
   "version": "3.8.5"
  }
 },
 "nbformat": 4,
 "nbformat_minor": 4
}
